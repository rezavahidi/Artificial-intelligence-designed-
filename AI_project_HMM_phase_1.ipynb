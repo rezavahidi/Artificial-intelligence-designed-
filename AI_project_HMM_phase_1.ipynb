{
  "cells": [
    {
      "cell_type": "markdown",
      "metadata": {
        "id": "igYkiMP06Ybf"
      },
      "source": [
        "# Project of AI course (Sharif University of Technology): Phase 1"
      ]
    },
    {
      "cell_type": "markdown",
      "metadata": {
        "id": "NwJh3NuumTZT"
      },
      "source": [
        "Setting up the environment"
      ]
    },
    {
      "cell_type": "code",
      "execution_count": null,
      "metadata": {
        "colab": {
          "base_uri": "https://localhost:8080/"
        },
        "id": "JTKl9O5glmbP",
        "outputId": "e0087573-d26c-4f57-9616-e4a98b4605fd"
      },
      "outputs": [],
      "source": [
        "%pip install pyrosm keplergl haversine pandas numpy"
      ]
    },
    {
      "cell_type": "code",
      "execution_count": 1,
      "metadata": {
        "id": "SbtVTMtTlmbQ"
      },
      "outputs": [],
      "source": [
        "import datetime\n",
        "import networkx as nx\n",
        "import numpy as np\n",
        "import pandas as pd\n",
        "import pyrosm\n",
        "import random\n",
        "import ssl\n",
        "import time\n",
        "\n",
        "from keplergl import KeplerGl\n",
        "from pyrosm import OSM, get_data"
      ]
    },
    {
      "cell_type": "code",
      "execution_count": null,
      "metadata": {},
      "outputs": [],
      "source": [
        "# If you are using colab, you need to run this cell\n",
        "from google.colab import output\n",
        "output.enable_custom_widget_manager()"
      ]
    },
    {
      "cell_type": "markdown",
      "metadata": {},
      "source": [
        "# Creating Pasdaran streets dataset (This part is not for students)"
      ]
    },
    {
      "cell_type": "code",
      "execution_count": 2,
      "metadata": {
        "colab": {
          "base_uri": "https://localhost:8080/"
        },
        "id": "NZjTG7qr4Eh0",
        "outputId": "dccb342b-3657-4420-d054-93199f66b4d5"
      },
      "outputs": [
        {
          "name": "stdout",
          "output_type": "stream",
          "text": [
            "Data was downloaded to: /Users/amirhossein/Documents/TA/AI/Project/Tehran.osm.pbf\n"
          ]
        }
      ],
      "source": [
        "ssl._create_default_https_context = ssl._create_unverified_context\n",
        "fp = get_data(\"tehran\", directory=\"./\")\n",
        "print(\"Data was downloaded to:\", fp)"
      ]
    },
    {
      "cell_type": "markdown",
      "metadata": {
        "id": "oMdcH8Ykq9cW"
      },
      "source": [
        "<div dir=\"rtl\">\n",
        "سپس یک ابجکت osm\n",
        "ایجاد می‌کنیم.\n",
        "هدف این ابجکت خواندن دیتای ذخیره شده است.\n",
        "دو ورودی می توان به آن داد که یکی آدرس فایل و یکی\n",
        "bounding_box\n",
        "جهت محدود کردن جغرافیایی دیتای خروجی است.\n",
        "</br>\n",
        "توسط get_network()\n",
        "می‌توانیم نتورک خیابان‌های خروجی را فیلتر کنیم. بدین طریق که یک پارامتر network_type\n",
        "داریم و به کمک آن نوع نتورک را مشخص می‌کنیم.\n",
        "که در مثال زیر خیابان های قابل رانندگی انتخاب شده اند.\n",
        "</div>"
      ]
    },
    {
      "cell_type": "code",
      "execution_count": 3,
      "metadata": {
        "id": "j2LJ1cHW4Ee8"
      },
      "outputs": [],
      "source": [
        "osm = pyrosm.OSM(fp)\n",
        "\n",
        "nodes, edges = osm.get_network(nodes=True, network_type=\"driving\")"
      ]
    },
    {
      "cell_type": "markdown",
      "metadata": {
        "id": "dXIv5LxZrEnj"
      },
      "source": [
        "<div dir=\"rtl\">\n",
        "ما  راس ها و یال‌هایی را خروجی می‌گیریم. راس ها درواقع تقاطع خیابان‌ها و یال‌ها خیابان اتصال کننده دو تقاطع اند.\n",
        "</br>\n",
        "حال هر کدام از این دو یک دیتافریم می‌باشند و می‌توانید از دستورات pandas برای آنها استفاده کنید.\n",
        "</br>\n",
        "همین طور که در head دیتافریم نمایش داده شده مشاهده می‌کنید هر راس یک طول و عرض جغرافیایی دارد که می‌توانیم با استفاده از آن محدوده‌های خاصی از نقشه را مشخص کنیم.\n",
        "</div>"
      ]
    },
    {
      "cell_type": "code",
      "execution_count": 4,
      "metadata": {
        "colab": {
          "base_uri": "https://localhost:8080/",
          "height": 293
        },
        "id": "Kp7obg6ZqxI4",
        "outputId": "e73ea821-c4fb-4dc1-c156-fec5cf22706c"
      },
      "outputs": [
        {
          "data": {
            "text/html": [
              "<div>\n",
              "<style scoped>\n",
              "    .dataframe tbody tr th:only-of-type {\n",
              "        vertical-align: middle;\n",
              "    }\n",
              "\n",
              "    .dataframe tbody tr th {\n",
              "        vertical-align: top;\n",
              "    }\n",
              "\n",
              "    .dataframe thead th {\n",
              "        text-align: right;\n",
              "    }\n",
              "</style>\n",
              "<table border=\"1\" class=\"dataframe\">\n",
              "  <thead>\n",
              "    <tr style=\"text-align: right;\">\n",
              "      <th></th>\n",
              "      <th>tags</th>\n",
              "      <th>lon</th>\n",
              "      <th>timestamp</th>\n",
              "      <th>version</th>\n",
              "      <th>lat</th>\n",
              "      <th>visible</th>\n",
              "      <th>changeset</th>\n",
              "      <th>id</th>\n",
              "      <th>geometry</th>\n",
              "    </tr>\n",
              "  </thead>\n",
              "  <tbody>\n",
              "    <tr>\n",
              "      <th>0</th>\n",
              "      <td>None</td>\n",
              "      <td>51.347767</td>\n",
              "      <td>0</td>\n",
              "      <td>0</td>\n",
              "      <td>35.705349</td>\n",
              "      <td>False</td>\n",
              "      <td>0</td>\n",
              "      <td>1926828378</td>\n",
              "      <td>POINT (51.34777 35.70535)</td>\n",
              "    </tr>\n",
              "    <tr>\n",
              "      <th>1</th>\n",
              "      <td>None</td>\n",
              "      <td>51.346359</td>\n",
              "      <td>0</td>\n",
              "      <td>0</td>\n",
              "      <td>35.705315</td>\n",
              "      <td>False</td>\n",
              "      <td>0</td>\n",
              "      <td>873786679</td>\n",
              "      <td>POINT (51.34636 35.70531)</td>\n",
              "    </tr>\n",
              "    <tr>\n",
              "      <th>2</th>\n",
              "      <td>None</td>\n",
              "      <td>51.351189</td>\n",
              "      <td>0</td>\n",
              "      <td>0</td>\n",
              "      <td>35.707413</td>\n",
              "      <td>False</td>\n",
              "      <td>0</td>\n",
              "      <td>4607761177</td>\n",
              "      <td>POINT (51.35119 35.70741)</td>\n",
              "    </tr>\n",
              "    <tr>\n",
              "      <th>3</th>\n",
              "      <td>None</td>\n",
              "      <td>51.350956</td>\n",
              "      <td>0</td>\n",
              "      <td>0</td>\n",
              "      <td>35.707554</td>\n",
              "      <td>False</td>\n",
              "      <td>0</td>\n",
              "      <td>4607761176</td>\n",
              "      <td>POINT (51.35096 35.70755)</td>\n",
              "    </tr>\n",
              "    <tr>\n",
              "      <th>4</th>\n",
              "      <td>None</td>\n",
              "      <td>51.350838</td>\n",
              "      <td>0</td>\n",
              "      <td>0</td>\n",
              "      <td>35.707642</td>\n",
              "      <td>False</td>\n",
              "      <td>0</td>\n",
              "      <td>4607761175</td>\n",
              "      <td>POINT (51.35084 35.70764)</td>\n",
              "    </tr>\n",
              "  </tbody>\n",
              "</table>\n",
              "</div>"
            ],
            "text/plain": [
              "   tags        lon  timestamp  version        lat  visible  changeset  \\\n",
              "0  None  51.347767          0        0  35.705349    False          0   \n",
              "1  None  51.346359          0        0  35.705315    False          0   \n",
              "2  None  51.351189          0        0  35.707413    False          0   \n",
              "3  None  51.350956          0        0  35.707554    False          0   \n",
              "4  None  51.350838          0        0  35.707642    False          0   \n",
              "\n",
              "           id                   geometry  \n",
              "0  1926828378  POINT (51.34777 35.70535)  \n",
              "1   873786679  POINT (51.34636 35.70531)  \n",
              "2  4607761177  POINT (51.35119 35.70741)  \n",
              "3  4607761176  POINT (51.35096 35.70755)  \n",
              "4  4607761175  POINT (51.35084 35.70764)  "
            ]
          },
          "execution_count": 4,
          "metadata": {},
          "output_type": "execute_result"
        }
      ],
      "source": [
        "nodes.head()"
      ]
    },
    {
      "cell_type": "markdown",
      "metadata": {
        "id": "we0sT9Qur3Ur"
      },
      "source": [
        "<div dir=\"rtl\">\n",
        "در ادامه با درنظر گرفتن نقاطی که عرض و طول جغرافیایی درون بازه خاصی دارند، رئوس محله پاسداران را از شهر مشخص می‌کنیم.\n",
        "</div>"
      ]
    },
    {
      "cell_type": "code",
      "execution_count": 5,
      "metadata": {
        "colab": {
          "base_uri": "https://localhost:8080/",
          "height": 424
        },
        "id": "ddssMyqZ4Ecr",
        "outputId": "ffcf6b81-474e-4828-bb22-fb99ef73c19a"
      },
      "outputs": [
        {
          "data": {
            "text/html": [
              "<div>\n",
              "<style scoped>\n",
              "    .dataframe tbody tr th:only-of-type {\n",
              "        vertical-align: middle;\n",
              "    }\n",
              "\n",
              "    .dataframe tbody tr th {\n",
              "        vertical-align: top;\n",
              "    }\n",
              "\n",
              "    .dataframe thead th {\n",
              "        text-align: right;\n",
              "    }\n",
              "</style>\n",
              "<table border=\"1\" class=\"dataframe\">\n",
              "  <thead>\n",
              "    <tr style=\"text-align: right;\">\n",
              "      <th></th>\n",
              "      <th>id</th>\n",
              "      <th>lat</th>\n",
              "      <th>lon</th>\n",
              "    </tr>\n",
              "  </thead>\n",
              "  <tbody>\n",
              "    <tr>\n",
              "      <th>0</th>\n",
              "      <td>423833948</td>\n",
              "      <td>35.772419</td>\n",
              "      <td>51.465652</td>\n",
              "    </tr>\n",
              "    <tr>\n",
              "      <th>1</th>\n",
              "      <td>423793584</td>\n",
              "      <td>35.771748</td>\n",
              "      <td>51.465084</td>\n",
              "    </tr>\n",
              "    <tr>\n",
              "      <th>2</th>\n",
              "      <td>177536927</td>\n",
              "      <td>35.776230</td>\n",
              "      <td>51.465034</td>\n",
              "    </tr>\n",
              "    <tr>\n",
              "      <th>3</th>\n",
              "      <td>177540293</td>\n",
              "      <td>35.771034</td>\n",
              "      <td>51.464462</td>\n",
              "    </tr>\n",
              "    <tr>\n",
              "      <th>4</th>\n",
              "      <td>423832815</td>\n",
              "      <td>35.772175</td>\n",
              "      <td>51.461494</td>\n",
              "    </tr>\n",
              "    <tr>\n",
              "      <th>...</th>\n",
              "      <td>...</td>\n",
              "      <td>...</td>\n",
              "      <td>...</td>\n",
              "    </tr>\n",
              "    <tr>\n",
              "      <th>1600</th>\n",
              "      <td>11158587867</td>\n",
              "      <td>35.763287</td>\n",
              "      <td>51.444275</td>\n",
              "    </tr>\n",
              "    <tr>\n",
              "      <th>1601</th>\n",
              "      <td>11158587869</td>\n",
              "      <td>35.763290</td>\n",
              "      <td>51.444252</td>\n",
              "    </tr>\n",
              "    <tr>\n",
              "      <th>1602</th>\n",
              "      <td>11158587868</td>\n",
              "      <td>35.763294</td>\n",
              "      <td>51.444233</td>\n",
              "    </tr>\n",
              "    <tr>\n",
              "      <th>1603</th>\n",
              "      <td>11194352478</td>\n",
              "      <td>35.764874</td>\n",
              "      <td>51.440830</td>\n",
              "    </tr>\n",
              "    <tr>\n",
              "      <th>1604</th>\n",
              "      <td>11194352483</td>\n",
              "      <td>35.762764</td>\n",
              "      <td>51.442554</td>\n",
              "    </tr>\n",
              "  </tbody>\n",
              "</table>\n",
              "<p>1605 rows × 3 columns</p>\n",
              "</div>"
            ],
            "text/plain": [
              "               id        lat        lon\n",
              "0       423833948  35.772419  51.465652\n",
              "1       423793584  35.771748  51.465084\n",
              "2       177536927  35.776230  51.465034\n",
              "3       177540293  35.771034  51.464462\n",
              "4       423832815  35.772175  51.461494\n",
              "...           ...        ...        ...\n",
              "1600  11158587867  35.763287  51.444275\n",
              "1601  11158587869  35.763290  51.444252\n",
              "1602  11158587868  35.763294  51.444233\n",
              "1603  11194352478  35.764874  51.440830\n",
              "1604  11194352483  35.762764  51.442554\n",
              "\n",
              "[1605 rows x 3 columns]"
            ]
          },
          "execution_count": 5,
          "metadata": {},
          "output_type": "execute_result"
        }
      ],
      "source": [
        "pasdaran_nodes = nodes[nodes['lat'] < 35.780]\n",
        "pasdaran_nodes = pasdaran_nodes[pasdaran_nodes['lat'] > 35.762]\n",
        "pasdaran_nodes = pasdaran_nodes[pasdaran_nodes['lon'] < 51.466]\n",
        "pasdaran_nodes = pasdaran_nodes[pasdaran_nodes['lon'] > 51.440]\n",
        "pasdaran_nodes = pasdaran_nodes.reset_index(drop=True)\n",
        "pasdaran_nodes = pasdaran_nodes[['id', 'lat', 'lon']]\n",
        "pasdaran_nodes"
      ]
    },
    {
      "cell_type": "markdown",
      "metadata": {
        "id": "1sU4GTx9sM-B"
      },
      "source": [
        "<div dir=\"rtl\">\n",
        "حال برای دیتای خیابان‌ها صرفا id خیابان ، اینکه کدام دو راس را به هم اتصال می‌دهد، طول و یک طرفه بودنش را بدست می‌آوریم.\n",
        "</div>"
      ]
    },
    {
      "cell_type": "code",
      "execution_count": 6,
      "metadata": {
        "colab": {
          "base_uri": "https://localhost:8080/",
          "height": 424
        },
        "id": "v5zNFM0s4EaZ",
        "outputId": "6cdf3c21-79fb-4e47-fb09-6bad7683ab24"
      },
      "outputs": [
        {
          "data": {
            "text/html": [
              "<div>\n",
              "<style scoped>\n",
              "    .dataframe tbody tr th:only-of-type {\n",
              "        vertical-align: middle;\n",
              "    }\n",
              "\n",
              "    .dataframe tbody tr th {\n",
              "        vertical-align: top;\n",
              "    }\n",
              "\n",
              "    .dataframe thead th {\n",
              "        text-align: right;\n",
              "    }\n",
              "</style>\n",
              "<table border=\"1\" class=\"dataframe\">\n",
              "  <thead>\n",
              "    <tr style=\"text-align: right;\">\n",
              "      <th></th>\n",
              "      <th>id</th>\n",
              "      <th>u</th>\n",
              "      <th>v</th>\n",
              "      <th>length</th>\n",
              "      <th>oneway</th>\n",
              "    </tr>\n",
              "  </thead>\n",
              "  <tbody>\n",
              "    <tr>\n",
              "      <th>0</th>\n",
              "      <td>4292665</td>\n",
              "      <td>1926828378</td>\n",
              "      <td>873786679</td>\n",
              "      <td>127.157</td>\n",
              "      <td>no</td>\n",
              "    </tr>\n",
              "    <tr>\n",
              "      <th>1</th>\n",
              "      <td>4292748</td>\n",
              "      <td>4607761177</td>\n",
              "      <td>4607761176</td>\n",
              "      <td>26.225</td>\n",
              "      <td>yes</td>\n",
              "    </tr>\n",
              "    <tr>\n",
              "      <th>2</th>\n",
              "      <td>4292748</td>\n",
              "      <td>4607761176</td>\n",
              "      <td>4607761175</td>\n",
              "      <td>14.463</td>\n",
              "      <td>yes</td>\n",
              "    </tr>\n",
              "    <tr>\n",
              "      <th>3</th>\n",
              "      <td>4292748</td>\n",
              "      <td>4607761175</td>\n",
              "      <td>9761557051</td>\n",
              "      <td>4.596</td>\n",
              "      <td>yes</td>\n",
              "    </tr>\n",
              "    <tr>\n",
              "      <th>4</th>\n",
              "      <td>4292748</td>\n",
              "      <td>9761557051</td>\n",
              "      <td>431492465</td>\n",
              "      <td>64.975</td>\n",
              "      <td>yes</td>\n",
              "    </tr>\n",
              "    <tr>\n",
              "      <th>...</th>\n",
              "      <td>...</td>\n",
              "      <td>...</td>\n",
              "      <td>...</td>\n",
              "      <td>...</td>\n",
              "      <td>...</td>\n",
              "    </tr>\n",
              "    <tr>\n",
              "      <th>293729</th>\n",
              "      <td>1222457613</td>\n",
              "      <td>11219542062</td>\n",
              "      <td>11219542060</td>\n",
              "      <td>7.341</td>\n",
              "      <td>yes</td>\n",
              "    </tr>\n",
              "    <tr>\n",
              "      <th>293730</th>\n",
              "      <td>1222457613</td>\n",
              "      <td>11219542060</td>\n",
              "      <td>11219542063</td>\n",
              "      <td>5.684</td>\n",
              "      <td>yes</td>\n",
              "    </tr>\n",
              "    <tr>\n",
              "      <th>293731</th>\n",
              "      <td>1222457613</td>\n",
              "      <td>11219542063</td>\n",
              "      <td>11219542061</td>\n",
              "      <td>4.578</td>\n",
              "      <td>yes</td>\n",
              "    </tr>\n",
              "    <tr>\n",
              "      <th>293732</th>\n",
              "      <td>1222457613</td>\n",
              "      <td>11219542061</td>\n",
              "      <td>339426026</td>\n",
              "      <td>11.576</td>\n",
              "      <td>yes</td>\n",
              "    </tr>\n",
              "    <tr>\n",
              "      <th>293733</th>\n",
              "      <td>1222495968</td>\n",
              "      <td>11338216269</td>\n",
              "      <td>1861590449</td>\n",
              "      <td>49.022</td>\n",
              "      <td>None</td>\n",
              "    </tr>\n",
              "  </tbody>\n",
              "</table>\n",
              "<p>293734 rows × 5 columns</p>\n",
              "</div>"
            ],
            "text/plain": [
              "                id            u            v   length oneway\n",
              "0          4292665   1926828378    873786679  127.157     no\n",
              "1          4292748   4607761177   4607761176   26.225    yes\n",
              "2          4292748   4607761176   4607761175   14.463    yes\n",
              "3          4292748   4607761175   9761557051    4.596    yes\n",
              "4          4292748   9761557051    431492465   64.975    yes\n",
              "...            ...          ...          ...      ...    ...\n",
              "293729  1222457613  11219542062  11219542060    7.341    yes\n",
              "293730  1222457613  11219542060  11219542063    5.684    yes\n",
              "293731  1222457613  11219542063  11219542061    4.578    yes\n",
              "293732  1222457613  11219542061    339426026   11.576    yes\n",
              "293733  1222495968  11338216269   1861590449   49.022   None\n",
              "\n",
              "[293734 rows x 5 columns]"
            ]
          },
          "execution_count": 6,
          "metadata": {},
          "output_type": "execute_result"
        }
      ],
      "source": [
        "tehran_streets_pdf = edges[['id', 'u', 'v', 'length', 'oneway']]\n",
        "tehran_streets_pdf"
      ]
    },
    {
      "cell_type": "markdown",
      "metadata": {
        "id": "IgSBZCRQsdmy"
      },
      "source": [
        "<div dir=\"rtl\">\n",
        "می‌توانیم با دادن آیدی یک خیابان مطابق زیر ویژگی های آن را اعم از یک طرفه بودن بررسی کنیم.\n",
        "</div>"
      ]
    },
    {
      "cell_type": "code",
      "execution_count": 7,
      "metadata": {
        "colab": {
          "base_uri": "https://localhost:8080/",
          "height": 35
        },
        "id": "kMGn3I498Gyt",
        "outputId": "46718560-1394-449f-bd76-9cac4f848655"
      },
      "outputs": [
        {
          "data": {
            "text/plain": [
              "'yes'"
            ]
          },
          "execution_count": 7,
          "metadata": {},
          "output_type": "execute_result"
        }
      ],
      "source": [
        "tehran_streets_pdf['oneway'][293236]"
      ]
    },
    {
      "cell_type": "markdown",
      "metadata": {
        "id": "DVUjW-g3soxJ"
      },
      "source": [
        "<div dir=\"rtl\">\n",
        "از آنجا که ممکن است دیتاست اطلاعات کاملی از یک طرفه بودن ها نداشته باشد، بعضی از خانه ها None اند، برای رفع این موضوع این خانه ها را با no جایگزین می‌کنیم و فرض می‌کنیم دو طرفه اند.\n",
        "</div>"
      ]
    },
    {
      "cell_type": "code",
      "execution_count": 8,
      "metadata": {
        "id": "Ali9PpQ_tD7R"
      },
      "outputs": [],
      "source": [
        "tehran_streets_pdf = tehran_streets_pdf.fillna('no')"
      ]
    },
    {
      "cell_type": "markdown",
      "metadata": {
        "id": "J5uPZsf9tl_N"
      },
      "source": [
        "<div dir=\"rtl\">\n",
        "اینکه در دیتاست خیابان هایمان صرفا آیدی تقاطع ها را داریم به ما دید خوبی نمی‌دهد. بدین منظور این دیتافریم و دیتافریم مربوط به تقاطع های پاسداران را مرج می‌کنیم. برای جلوگیری از مشکل یکی بودن اسم ستون آیدی در این دو دیتافریم، آن را به street_id تغییر می‌دهیم.\n",
        "</div>"
      ]
    },
    {
      "cell_type": "code",
      "execution_count": 9,
      "metadata": {
        "colab": {
          "base_uri": "https://localhost:8080/",
          "height": 424
        },
        "id": "9lc6blYg52pb",
        "outputId": "70f0abd2-6910-4945-ca18-e4bc19208d8c"
      },
      "outputs": [
        {
          "data": {
            "text/html": [
              "<div>\n",
              "<style scoped>\n",
              "    .dataframe tbody tr th:only-of-type {\n",
              "        vertical-align: middle;\n",
              "    }\n",
              "\n",
              "    .dataframe tbody tr th {\n",
              "        vertical-align: top;\n",
              "    }\n",
              "\n",
              "    .dataframe thead th {\n",
              "        text-align: right;\n",
              "    }\n",
              "</style>\n",
              "<table border=\"1\" class=\"dataframe\">\n",
              "  <thead>\n",
              "    <tr style=\"text-align: right;\">\n",
              "      <th></th>\n",
              "      <th>street_id</th>\n",
              "      <th>u</th>\n",
              "      <th>v</th>\n",
              "      <th>length</th>\n",
              "      <th>oneway</th>\n",
              "    </tr>\n",
              "  </thead>\n",
              "  <tbody>\n",
              "    <tr>\n",
              "      <th>0</th>\n",
              "      <td>4292665</td>\n",
              "      <td>1926828378</td>\n",
              "      <td>873786679</td>\n",
              "      <td>127.157</td>\n",
              "      <td>no</td>\n",
              "    </tr>\n",
              "    <tr>\n",
              "      <th>1</th>\n",
              "      <td>4292748</td>\n",
              "      <td>4607761177</td>\n",
              "      <td>4607761176</td>\n",
              "      <td>26.225</td>\n",
              "      <td>yes</td>\n",
              "    </tr>\n",
              "    <tr>\n",
              "      <th>2</th>\n",
              "      <td>4292748</td>\n",
              "      <td>4607761176</td>\n",
              "      <td>4607761175</td>\n",
              "      <td>14.463</td>\n",
              "      <td>yes</td>\n",
              "    </tr>\n",
              "    <tr>\n",
              "      <th>3</th>\n",
              "      <td>4292748</td>\n",
              "      <td>4607761175</td>\n",
              "      <td>9761557051</td>\n",
              "      <td>4.596</td>\n",
              "      <td>yes</td>\n",
              "    </tr>\n",
              "    <tr>\n",
              "      <th>4</th>\n",
              "      <td>4292748</td>\n",
              "      <td>9761557051</td>\n",
              "      <td>431492465</td>\n",
              "      <td>64.975</td>\n",
              "      <td>yes</td>\n",
              "    </tr>\n",
              "    <tr>\n",
              "      <th>...</th>\n",
              "      <td>...</td>\n",
              "      <td>...</td>\n",
              "      <td>...</td>\n",
              "      <td>...</td>\n",
              "      <td>...</td>\n",
              "    </tr>\n",
              "    <tr>\n",
              "      <th>293729</th>\n",
              "      <td>1222457613</td>\n",
              "      <td>11219542062</td>\n",
              "      <td>11219542060</td>\n",
              "      <td>7.341</td>\n",
              "      <td>yes</td>\n",
              "    </tr>\n",
              "    <tr>\n",
              "      <th>293730</th>\n",
              "      <td>1222457613</td>\n",
              "      <td>11219542060</td>\n",
              "      <td>11219542063</td>\n",
              "      <td>5.684</td>\n",
              "      <td>yes</td>\n",
              "    </tr>\n",
              "    <tr>\n",
              "      <th>293731</th>\n",
              "      <td>1222457613</td>\n",
              "      <td>11219542063</td>\n",
              "      <td>11219542061</td>\n",
              "      <td>4.578</td>\n",
              "      <td>yes</td>\n",
              "    </tr>\n",
              "    <tr>\n",
              "      <th>293732</th>\n",
              "      <td>1222457613</td>\n",
              "      <td>11219542061</td>\n",
              "      <td>339426026</td>\n",
              "      <td>11.576</td>\n",
              "      <td>yes</td>\n",
              "    </tr>\n",
              "    <tr>\n",
              "      <th>293733</th>\n",
              "      <td>1222495968</td>\n",
              "      <td>11338216269</td>\n",
              "      <td>1861590449</td>\n",
              "      <td>49.022</td>\n",
              "      <td>no</td>\n",
              "    </tr>\n",
              "  </tbody>\n",
              "</table>\n",
              "<p>293734 rows × 5 columns</p>\n",
              "</div>"
            ],
            "text/plain": [
              "         street_id            u            v   length oneway\n",
              "0          4292665   1926828378    873786679  127.157     no\n",
              "1          4292748   4607761177   4607761176   26.225    yes\n",
              "2          4292748   4607761176   4607761175   14.463    yes\n",
              "3          4292748   4607761175   9761557051    4.596    yes\n",
              "4          4292748   9761557051    431492465   64.975    yes\n",
              "...            ...          ...          ...      ...    ...\n",
              "293729  1222457613  11219542062  11219542060    7.341    yes\n",
              "293730  1222457613  11219542060  11219542063    5.684    yes\n",
              "293731  1222457613  11219542063  11219542061    4.578    yes\n",
              "293732  1222457613  11219542061    339426026   11.576    yes\n",
              "293733  1222495968  11338216269   1861590449   49.022     no\n",
              "\n",
              "[293734 rows x 5 columns]"
            ]
          },
          "execution_count": 9,
          "metadata": {},
          "output_type": "execute_result"
        }
      ],
      "source": [
        "tehran_streets_pdf = tehran_streets_pdf.rename(columns={'id': 'street_id'})\n",
        "tehran_streets_pdf"
      ]
    },
    {
      "cell_type": "markdown",
      "metadata": {
        "id": "ULxJ6JOMtobx"
      },
      "source": [
        "<div dir=\"rtl\">\n",
        "دیتافریم ها را با یکدیگر مرج می‌کنیم تا برای هر پاره خط مختصات تقاطع های ابتدا و انتهایش را نیز داشته باشیم.\n",
        "</div>"
      ]
    },
    {
      "cell_type": "code",
      "execution_count": 10,
      "metadata": {
        "colab": {
          "base_uri": "https://localhost:8080/",
          "height": 444
        },
        "id": "A3u0rHGg4EXp",
        "outputId": "328026a0-31c9-48b7-ff46-aeef4d05d351"
      },
      "outputs": [
        {
          "data": {
            "text/html": [
              "<div>\n",
              "<style scoped>\n",
              "    .dataframe tbody tr th:only-of-type {\n",
              "        vertical-align: middle;\n",
              "    }\n",
              "\n",
              "    .dataframe tbody tr th {\n",
              "        vertical-align: top;\n",
              "    }\n",
              "\n",
              "    .dataframe thead th {\n",
              "        text-align: right;\n",
              "    }\n",
              "</style>\n",
              "<table border=\"1\" class=\"dataframe\">\n",
              "  <thead>\n",
              "    <tr style=\"text-align: right;\">\n",
              "      <th></th>\n",
              "      <th>street_id</th>\n",
              "      <th>u</th>\n",
              "      <th>v</th>\n",
              "      <th>length</th>\n",
              "      <th>oneway</th>\n",
              "      <th>u_lat</th>\n",
              "      <th>u_lon</th>\n",
              "      <th>v_lat</th>\n",
              "      <th>v_lon</th>\n",
              "    </tr>\n",
              "  </thead>\n",
              "  <tbody>\n",
              "    <tr>\n",
              "      <th>0</th>\n",
              "      <td>5003747</td>\n",
              "      <td>423833948</td>\n",
              "      <td>423793584</td>\n",
              "      <td>90.570</td>\n",
              "      <td>no</td>\n",
              "      <td>35.772419</td>\n",
              "      <td>51.465652</td>\n",
              "      <td>35.771748</td>\n",
              "      <td>51.465084</td>\n",
              "    </tr>\n",
              "    <tr>\n",
              "      <th>1</th>\n",
              "      <td>17099043</td>\n",
              "      <td>177540293</td>\n",
              "      <td>423832815</td>\n",
              "      <td>296.273</td>\n",
              "      <td>yes</td>\n",
              "      <td>35.771034</td>\n",
              "      <td>51.464462</td>\n",
              "      <td>35.772175</td>\n",
              "      <td>51.461494</td>\n",
              "    </tr>\n",
              "    <tr>\n",
              "      <th>2</th>\n",
              "      <td>787945693</td>\n",
              "      <td>4429684144</td>\n",
              "      <td>423832815</td>\n",
              "      <td>62.573</td>\n",
              "      <td>no</td>\n",
              "      <td>35.772636</td>\n",
              "      <td>51.461891</td>\n",
              "      <td>35.772175</td>\n",
              "      <td>51.461494</td>\n",
              "    </tr>\n",
              "    <tr>\n",
              "      <th>3</th>\n",
              "      <td>687277053</td>\n",
              "      <td>177540293</td>\n",
              "      <td>423793585</td>\n",
              "      <td>97.898</td>\n",
              "      <td>no</td>\n",
              "      <td>35.771034</td>\n",
              "      <td>51.464462</td>\n",
              "      <td>35.770317</td>\n",
              "      <td>51.463833</td>\n",
              "    </tr>\n",
              "    <tr>\n",
              "      <th>4</th>\n",
              "      <td>36333153</td>\n",
              "      <td>9339973930</td>\n",
              "      <td>423793585</td>\n",
              "      <td>296.275</td>\n",
              "      <td>yes</td>\n",
              "      <td>35.771458</td>\n",
              "      <td>51.460865</td>\n",
              "      <td>35.770317</td>\n",
              "      <td>51.463833</td>\n",
              "    </tr>\n",
              "    <tr>\n",
              "      <th>...</th>\n",
              "      <td>...</td>\n",
              "      <td>...</td>\n",
              "      <td>...</td>\n",
              "      <td>...</td>\n",
              "      <td>...</td>\n",
              "      <td>...</td>\n",
              "      <td>...</td>\n",
              "      <td>...</td>\n",
              "      <td>...</td>\n",
              "    </tr>\n",
              "    <tr>\n",
              "      <th>1826</th>\n",
              "      <td>1203885252</td>\n",
              "      <td>11158587867</td>\n",
              "      <td>11158587869</td>\n",
              "      <td>2.108</td>\n",
              "      <td>yes</td>\n",
              "      <td>35.763287</td>\n",
              "      <td>51.444275</td>\n",
              "      <td>35.763290</td>\n",
              "      <td>51.444252</td>\n",
              "    </tr>\n",
              "    <tr>\n",
              "      <th>1827</th>\n",
              "      <td>1203885252</td>\n",
              "      <td>11158587869</td>\n",
              "      <td>11158587868</td>\n",
              "      <td>1.772</td>\n",
              "      <td>yes</td>\n",
              "      <td>35.763290</td>\n",
              "      <td>51.444252</td>\n",
              "      <td>35.763294</td>\n",
              "      <td>51.444233</td>\n",
              "    </tr>\n",
              "    <tr>\n",
              "      <th>1828</th>\n",
              "      <td>1208111703</td>\n",
              "      <td>4404038815</td>\n",
              "      <td>11194352478</td>\n",
              "      <td>15.794</td>\n",
              "      <td>no</td>\n",
              "      <td>35.764931</td>\n",
              "      <td>51.440990</td>\n",
              "      <td>35.764874</td>\n",
              "      <td>51.440830</td>\n",
              "    </tr>\n",
              "    <tr>\n",
              "      <th>1829</th>\n",
              "      <td>1208111704</td>\n",
              "      <td>11194352485</td>\n",
              "      <td>424065302</td>\n",
              "      <td>6.325</td>\n",
              "      <td>no</td>\n",
              "      <td>35.764084</td>\n",
              "      <td>51.441704</td>\n",
              "      <td>35.764072</td>\n",
              "      <td>51.441635</td>\n",
              "    </tr>\n",
              "    <tr>\n",
              "      <th>1830</th>\n",
              "      <td>1208111707</td>\n",
              "      <td>11194352484</td>\n",
              "      <td>11194352483</td>\n",
              "      <td>13.078</td>\n",
              "      <td>yes</td>\n",
              "      <td>35.762718</td>\n",
              "      <td>51.442421</td>\n",
              "      <td>35.762764</td>\n",
              "      <td>51.442554</td>\n",
              "    </tr>\n",
              "  </tbody>\n",
              "</table>\n",
              "<p>1831 rows × 9 columns</p>\n",
              "</div>"
            ],
            "text/plain": [
              "       street_id            u            v   length oneway      u_lat  \\\n",
              "0        5003747    423833948    423793584   90.570     no  35.772419   \n",
              "1       17099043    177540293    423832815  296.273    yes  35.771034   \n",
              "2      787945693   4429684144    423832815   62.573     no  35.772636   \n",
              "3      687277053    177540293    423793585   97.898     no  35.771034   \n",
              "4       36333153   9339973930    423793585  296.275    yes  35.771458   \n",
              "...          ...          ...          ...      ...    ...        ...   \n",
              "1826  1203885252  11158587867  11158587869    2.108    yes  35.763287   \n",
              "1827  1203885252  11158587869  11158587868    1.772    yes  35.763290   \n",
              "1828  1208111703   4404038815  11194352478   15.794     no  35.764931   \n",
              "1829  1208111704  11194352485    424065302    6.325     no  35.764084   \n",
              "1830  1208111707  11194352484  11194352483   13.078    yes  35.762718   \n",
              "\n",
              "          u_lon      v_lat      v_lon  \n",
              "0     51.465652  35.771748  51.465084  \n",
              "1     51.464462  35.772175  51.461494  \n",
              "2     51.461891  35.772175  51.461494  \n",
              "3     51.464462  35.770317  51.463833  \n",
              "4     51.460865  35.770317  51.463833  \n",
              "...         ...        ...        ...  \n",
              "1826  51.444275  35.763290  51.444252  \n",
              "1827  51.444252  35.763294  51.444233  \n",
              "1828  51.440990  35.764874  51.440830  \n",
              "1829  51.441704  35.764072  51.441635  \n",
              "1830  51.442421  35.762764  51.442554  \n",
              "\n",
              "[1831 rows x 9 columns]"
            ]
          },
          "execution_count": 10,
          "metadata": {},
          "output_type": "execute_result"
        }
      ],
      "source": [
        "pasdaran_streets = tehran_streets_pdf.merge(pasdaran_nodes, left_on='u', right_on='id', how='inner')\n",
        "pasdaran_streets = pasdaran_streets.rename(columns={'lat': 'u_lat', 'lon': 'u_lon'})\n",
        "\n",
        "pasdaran_streets = pasdaran_streets.merge(pasdaran_nodes, left_on='v', right_on='id', how='inner')\n",
        "pasdaran_streets = pasdaran_streets.rename(columns={'lat': 'v_lat', 'lon': 'v_lon'})\n",
        "pasdaran_streets = pasdaran_streets.drop(['id_x', 'id_y'], axis=1)\n",
        "pasdaran_streets"
      ]
    },
    {
      "cell_type": "markdown",
      "metadata": {
        "id": "u0kCr-btt3-c"
      },
      "source": [
        "<div dir=\"rtl\">\n",
        "حال که با جزئیات ساختاری دیتاست آشنا شدیم، برای شهود بهتر نقاط انتخاب شده را روی نقشه نمایش می‌دهیم.\n",
        "</br>\n",
        "بدین منظور از کتابخانه folium بهره می‌بریم.\n",
        "</div>"
      ]
    },
    {
      "cell_type": "markdown",
      "metadata": {
        "id": "d3BczEp8ucTc"
      },
      "source": [
        "<div dir=\"rtl\">\n",
        "مپ را روی میانگین نقاط دیتاست پاسداران قرار می‌دهیم و سپس تمام شروع تقاطع‌ها را مارک می‌کنیم.\n",
        "</div>"
      ]
    },
    {
      "cell_type": "code",
      "execution_count": 11,
      "metadata": {},
      "outputs": [
        {
          "name": "stdout",
          "output_type": "stream",
          "text": [
            "User Guide: https://docs.kepler.gl/docs/keplergl-jupyter\n"
          ]
        },
        {
          "data": {
            "application/vnd.jupyter.widget-view+json": {
              "model_id": "f6aad268620e4e61a15e4b2d7a236e3b",
              "version_major": 2,
              "version_minor": 0
            },
            "text/plain": [
              "KeplerGl(data={'all_data':           u_lat      u_lon\n",
              "0     35.772419  51.465652\n",
              "1     35.771034  51.464462\n",
              "2 …"
            ]
          },
          "metadata": {},
          "output_type": "display_data"
        }
      ],
      "source": [
        "def visualize_streets_using_kepler(streets_pdf):\n",
        "    assert 'u_lat' in streets_pdf.columns, \"Your dataset must contain u_lat column\"\n",
        "    assert 'u_lon' in streets_pdf.columns, \"Your dataset must contain u_lon column\"\n",
        "\n",
        "    streets_pdf = streets_pdf[['u_lat', 'u_lon']]\n",
        "\n",
        "    kepler_map = KeplerGl(height=800, data={'all_data': streets_pdf})\n",
        "\n",
        "    return kepler_map\n",
        "\n",
        "kepler_map = visualize_streets_using_kepler(pasdaran_streets)\n",
        "kepler_map"
      ]
    },
    {
      "cell_type": "markdown",
      "metadata": {
        "id": "B60MXeEovEzJ"
      },
      "source": [
        "<div dir=\"rtl\">\n",
        "درنهایت دیتافریم های ساخته شده را در فایل های csv نظیر خود ذخیره می‌کنیم.\n",
        "</div>"
      ]
    },
    {
      "cell_type": "code",
      "execution_count": 12,
      "metadata": {
        "id": "r_6oZAgy9DwU"
      },
      "outputs": [],
      "source": [
        "tehran_streets_pdf.to_csv('./tehran_streets.csv', index=False)\n",
        "pasdaran_nodes.to_csv('./pasdaran_nodes.csv', index=False)\n",
        "pasdaran_streets.to_csv('./pasdaran_streets.csv', index=False)"
      ]
    },
    {
      "cell_type": "markdown",
      "metadata": {},
      "source": [
        "# Loading Pasdaran streets dataset"
      ]
    },
    {
      "cell_type": "code",
      "execution_count": 2,
      "metadata": {},
      "outputs": [],
      "source": [
        "pasdaran_streets = pd.read_csv('./pasdaran_streets.csv')\n",
        "pasdaran_nodes = pd.read_csv('./pasdaran_nodes.csv')"
      ]
    },
    {
      "cell_type": "code",
      "execution_count": 3,
      "metadata": {},
      "outputs": [
        {
          "data": {
            "text/html": [
              "<div>\n",
              "<style scoped>\n",
              "    .dataframe tbody tr th:only-of-type {\n",
              "        vertical-align: middle;\n",
              "    }\n",
              "\n",
              "    .dataframe tbody tr th {\n",
              "        vertical-align: top;\n",
              "    }\n",
              "\n",
              "    .dataframe thead th {\n",
              "        text-align: right;\n",
              "    }\n",
              "</style>\n",
              "<table border=\"1\" class=\"dataframe\">\n",
              "  <thead>\n",
              "    <tr style=\"text-align: right;\">\n",
              "      <th></th>\n",
              "      <th>street_id</th>\n",
              "      <th>u</th>\n",
              "      <th>v</th>\n",
              "      <th>length</th>\n",
              "      <th>oneway</th>\n",
              "      <th>u_lat</th>\n",
              "      <th>u_lon</th>\n",
              "      <th>v_lat</th>\n",
              "      <th>v_lon</th>\n",
              "    </tr>\n",
              "  </thead>\n",
              "  <tbody>\n",
              "    <tr>\n",
              "      <th>0</th>\n",
              "      <td>5003747</td>\n",
              "      <td>423833948</td>\n",
              "      <td>423793584</td>\n",
              "      <td>90.570</td>\n",
              "      <td>no</td>\n",
              "      <td>35.772419</td>\n",
              "      <td>51.465652</td>\n",
              "      <td>35.771748</td>\n",
              "      <td>51.465084</td>\n",
              "    </tr>\n",
              "    <tr>\n",
              "      <th>1</th>\n",
              "      <td>17099043</td>\n",
              "      <td>177540293</td>\n",
              "      <td>423832815</td>\n",
              "      <td>296.273</td>\n",
              "      <td>yes</td>\n",
              "      <td>35.771034</td>\n",
              "      <td>51.464462</td>\n",
              "      <td>35.772175</td>\n",
              "      <td>51.461494</td>\n",
              "    </tr>\n",
              "    <tr>\n",
              "      <th>2</th>\n",
              "      <td>787945693</td>\n",
              "      <td>4429684144</td>\n",
              "      <td>423832815</td>\n",
              "      <td>62.573</td>\n",
              "      <td>no</td>\n",
              "      <td>35.772636</td>\n",
              "      <td>51.461891</td>\n",
              "      <td>35.772175</td>\n",
              "      <td>51.461494</td>\n",
              "    </tr>\n",
              "    <tr>\n",
              "      <th>3</th>\n",
              "      <td>687277053</td>\n",
              "      <td>177540293</td>\n",
              "      <td>423793585</td>\n",
              "      <td>97.898</td>\n",
              "      <td>no</td>\n",
              "      <td>35.771034</td>\n",
              "      <td>51.464462</td>\n",
              "      <td>35.770317</td>\n",
              "      <td>51.463833</td>\n",
              "    </tr>\n",
              "    <tr>\n",
              "      <th>4</th>\n",
              "      <td>36333153</td>\n",
              "      <td>9339973930</td>\n",
              "      <td>423793585</td>\n",
              "      <td>296.275</td>\n",
              "      <td>yes</td>\n",
              "      <td>35.771458</td>\n",
              "      <td>51.460865</td>\n",
              "      <td>35.770317</td>\n",
              "      <td>51.463833</td>\n",
              "    </tr>\n",
              "  </tbody>\n",
              "</table>\n",
              "</div>"
            ],
            "text/plain": [
              "   street_id           u          v   length oneway      u_lat      u_lon  \\\n",
              "0    5003747   423833948  423793584   90.570     no  35.772419  51.465652   \n",
              "1   17099043   177540293  423832815  296.273    yes  35.771034  51.464462   \n",
              "2  787945693  4429684144  423832815   62.573     no  35.772636  51.461891   \n",
              "3  687277053   177540293  423793585   97.898     no  35.771034  51.464462   \n",
              "4   36333153  9339973930  423793585  296.275    yes  35.771458  51.460865   \n",
              "\n",
              "       v_lat      v_lon  \n",
              "0  35.771748  51.465084  \n",
              "1  35.772175  51.461494  \n",
              "2  35.772175  51.461494  \n",
              "3  35.770317  51.463833  \n",
              "4  35.770317  51.463833  "
            ]
          },
          "execution_count": 3,
          "metadata": {},
          "output_type": "execute_result"
        }
      ],
      "source": [
        "pasdaran_streets.head()"
      ]
    },
    {
      "cell_type": "code",
      "execution_count": 4,
      "metadata": {},
      "outputs": [
        {
          "data": {
            "text/html": [
              "<div>\n",
              "<style scoped>\n",
              "    .dataframe tbody tr th:only-of-type {\n",
              "        vertical-align: middle;\n",
              "    }\n",
              "\n",
              "    .dataframe tbody tr th {\n",
              "        vertical-align: top;\n",
              "    }\n",
              "\n",
              "    .dataframe thead th {\n",
              "        text-align: right;\n",
              "    }\n",
              "</style>\n",
              "<table border=\"1\" class=\"dataframe\">\n",
              "  <thead>\n",
              "    <tr style=\"text-align: right;\">\n",
              "      <th></th>\n",
              "      <th>id</th>\n",
              "      <th>lat</th>\n",
              "      <th>lon</th>\n",
              "    </tr>\n",
              "  </thead>\n",
              "  <tbody>\n",
              "    <tr>\n",
              "      <th>0</th>\n",
              "      <td>423833948</td>\n",
              "      <td>35.772419</td>\n",
              "      <td>51.465652</td>\n",
              "    </tr>\n",
              "    <tr>\n",
              "      <th>1</th>\n",
              "      <td>423793584</td>\n",
              "      <td>35.771748</td>\n",
              "      <td>51.465084</td>\n",
              "    </tr>\n",
              "    <tr>\n",
              "      <th>2</th>\n",
              "      <td>177536927</td>\n",
              "      <td>35.776230</td>\n",
              "      <td>51.465034</td>\n",
              "    </tr>\n",
              "    <tr>\n",
              "      <th>3</th>\n",
              "      <td>177540293</td>\n",
              "      <td>35.771034</td>\n",
              "      <td>51.464462</td>\n",
              "    </tr>\n",
              "    <tr>\n",
              "      <th>4</th>\n",
              "      <td>423832815</td>\n",
              "      <td>35.772175</td>\n",
              "      <td>51.461494</td>\n",
              "    </tr>\n",
              "  </tbody>\n",
              "</table>\n",
              "</div>"
            ],
            "text/plain": [
              "          id        lat        lon\n",
              "0  423833948  35.772419  51.465652\n",
              "1  423793584  35.771748  51.465084\n",
              "2  177536927  35.776230  51.465034\n",
              "3  177540293  35.771034  51.464462\n",
              "4  423832815  35.772175  51.461494"
            ]
          },
          "execution_count": 4,
          "metadata": {},
          "output_type": "execute_result"
        }
      ],
      "source": [
        "pasdaran_nodes.head()"
      ]
    },
    {
      "cell_type": "code",
      "execution_count": 5,
      "metadata": {},
      "outputs": [
        {
          "name": "stdout",
          "output_type": "stream",
          "text": [
            "User Guide: https://docs.kepler.gl/docs/keplergl-jupyter\n"
          ]
        },
        {
          "data": {
            "application/vnd.jupyter.widget-view+json": {
              "model_id": "cc76354c51c840988675258b7389ab1f",
              "version_major": 2,
              "version_minor": 0
            },
            "text/plain": [
              "KeplerGl(data={'all_data':           u_lat      u_lon\n",
              "0     35.772419  51.465652\n",
              "1     35.771034  51.464462\n",
              "2 …"
            ]
          },
          "metadata": {},
          "output_type": "display_data"
        }
      ],
      "source": [
        "def visualize_streets_using_kepler(streets_pdf):\n",
        "    assert 'u_lat' in streets_pdf.columns, \"Your dataset must contain u_lat column\"\n",
        "    assert 'u_lon' in streets_pdf.columns, \"Your dataset must contain u_lon column\"\n",
        "\n",
        "    streets_pdf = streets_pdf[['u_lat', 'u_lon']]\n",
        "\n",
        "    kepler_map = KeplerGl(height=800, data={'all_data': streets_pdf})\n",
        "\n",
        "    return kepler_map\n",
        "\n",
        "kepler_map = visualize_streets_using_kepler(pasdaran_streets)\n",
        "kepler_map"
      ]
    },
    {
      "cell_type": "markdown",
      "metadata": {
        "id": "osSfUikvvQ6Q"
      },
      "source": [
        "# Creating dataset for trip"
      ]
    },
    {
      "cell_type": "markdown",
      "metadata": {
        "id": "HR3QM8DKvWWt"
      },
      "source": [
        "As you understood, until now, we loaded 2 datasets, `pasdaran_nodes` and `pasdaran_streets`. Now, we should create a dataset from these, such that we can use it for our trip. Each item in this dataset is called a `ride`. We will explain more as we go on."
      ]
    },
    {
      "cell_type": "markdown",
      "metadata": {},
      "source": [
        "First, we should create a **trip** for a driver. For this sake, we should choose 2 random points in our map as the source and destination of the trip. Now, we should find the streets that connect these 2 points. Each street has a length. You should find the shortest path between these 2 points (source and destination) which are in the `pasdaran_streets`. Note that this path should be the **shortest path** meaning that the sum of the lengths of streets should be minimum."
      ]
    },
    {
      "cell_type": "code",
      "execution_count": 6,
      "metadata": {
        "id": "ZQ-cozPeE4Wb"
      },
      "outputs": [],
      "source": [
        "def check_node_in_street_df(u,streets):\n",
        "  return u in streets[\"u\"].values or u in streets[\"v\"].values"
      ]
    },
    {
      "cell_type": "code",
      "execution_count": 7,
      "metadata": {
        "id": "w909XhNelmbT"
      },
      "outputs": [],
      "source": [
        "import numpy as np\n",
        "import networkx as nx\n",
        "\n",
        "\n",
        "def sample_trip(nodes, streets):\n",
        "    # sample source and destination nodes\n",
        "    source_node = np.random.choice(nodes[\"id\"].values)\n",
        "    destination_node = np.random.choice(nodes[\"id\"].values)\n",
        "    prestreets = streets\n",
        "    # find the shortest path between source and destination\n",
        "    streets = nx.from_pandas_edgelist(\n",
        "        streets, \"u\", \"v\", [\"street_id\", \"length\", \"oneway\"]\n",
        "    )\n",
        "    while not check_node_in_street_df(source_node,prestreets) or not check_node_in_street_df(destination_node,prestreets) or not nx.has_path(streets,source=source_node,target=destination_node):\n",
        "      source_node = np.random.choice(nodes[\"id\"].values)\n",
        "      destination_node = np.random.choice(nodes[\"id\"].values)\n",
        "\n",
        "    shortest_path = nx.shortest_path(\n",
        "            streets, source=source_node, target=destination_node, weight=\"length\"\n",
        "        )\n",
        "    return shortest_path, source_node, destination_node\n",
        "\n",
        "\n",
        "sampled_trip, sampled_source, sampled_dest = sample_trip(\n",
        "    pasdaran_nodes, pasdaran_streets\n",
        ")"
      ]
    },
    {
      "cell_type": "code",
      "execution_count": 8,
      "metadata": {},
      "outputs": [
        {
          "data": {
            "text/plain": [
              "[4695975717, 1721683025, 423815697, 423815691, 423815693]"
            ]
          },
          "execution_count": 8,
          "metadata": {},
          "output_type": "execute_result"
        }
      ],
      "source": [
        "sampled_trip[:5] # contains the street_ids which create the shortest path"
      ]
    },
    {
      "cell_type": "markdown",
      "metadata": {
        "id": "YP2kS2GHx02G"
      },
      "source": [
        "Visualize the sampled trip (in the previous cell) on the map. Use `kepler` library for this purpose."
      ]
    },
    {
      "cell_type": "code",
      "execution_count": 9,
      "metadata": {
        "colab": {
          "base_uri": "https://localhost:8080/",
          "height": 511
        },
        "id": "kWhW3mIizZ0_",
        "outputId": "1a3319b9-fac1-42ef-e666-8072a9e6ab5f"
      },
      "outputs": [
        {
          "name": "stdout",
          "output_type": "stream",
          "text": [
            "User Guide: https://docs.kepler.gl/docs/keplergl-jupyter\n"
          ]
        },
        {
          "data": {
            "application/vnd.jupyter.widget-view+json": {
              "model_id": "c0fdd37e97d149dc8cb531e225474436",
              "version_major": 2,
              "version_minor": 0
            },
            "text/plain": [
              "KeplerGl(config={'version': 'v1', 'config': {'visState': {'filters': [{'dataId': ['sample_ride'], 'id': 'io3gb…"
            ]
          },
          "metadata": {},
          "output_type": "display_data"
        }
      ],
      "source": [
        "def visualize_streets_using_kepler(sampled_trip, sampled_source, sampled_dest,\n",
        "                                    pasdaran_nodes_pdf=pasdaran_nodes,\n",
        "                                    pasdaran_streets_pdf=pasdaran_streets):\n",
        "    data = []\n",
        "    kepler_config = {'version': 'v1', 'config': {'visState': {'filters': [{'dataId': ['sample_ride'], 'id': 'io3gbsqzf', 'name': ['timestamp'], 'type': 'timeRange', 'value': [1700239623660, 1700239797294.5928], 'enlarged': True, 'plotType': 'histogram', 'animationWindow': 'incremental', 'yAxis': None, 'speed': 1}], 'layers': [{'id': 'ayoewf8', 'type': 'point', 'config': {'dataId': 'sample_ride', 'label': 'Rides', 'color': [18, 147, 154], 'highlightColor': [252, 242, 26, 255], 'columns': {'lat': 'lat', 'lng': 'lng', 'altitude': None}, 'isVisible': True, 'visConfig': {'radius': 10, 'fixedRadius': False, 'opacity': 0.8, 'outline': False, 'thickness': 2, 'strokeColor': None, 'colorRange': {'name': 'ColorBrewer RdYlGn-6', 'type': 'diverging', 'category': 'ColorBrewer', 'colors': ['#1a9850', '#91cf60', '#d9ef8b', '#fee08b', '#fc8d59', '#d73027'], 'reversed': True}, 'strokeColorRange': {'name': 'Global Warming', 'type': 'sequential', 'category': 'Uber', 'colors': ['#5A1846', '#900C3F', '#C70039', '#E3611C', '#F1920E', '#FFC300']}, 'radiusRange': [0, 42.9], 'filled': True}, 'hidden': False, 'textLabel': []}, 'visualChannels': {'colorField': {'name': 'timestamp', 'type': 'timestamp'}, 'colorScale': 'quantile', 'strokeColorField': None, 'strokeColorScale': 'quantile', 'sizeField': None, 'sizeScale': 'linear'}}], 'interactionConfig': {'tooltip': {'fieldsToShow': {'sample_ride': [{'name': 'timestamp', 'format': None}, {'name': 'type', 'format': None}]}, 'compareMode': False, 'compareType': 'absolute', 'enabled': True}, 'brush': {'size': 0.5, 'enabled': False}, 'geocoder': {'enabled': False}, 'coordinate': {'enabled': False}}, 'layerBlending': 'normal', 'splitMaps': [], 'animationConfig': {'currentTime': None, 'speed': 1}}, 'mapState': {'bearing': 0, 'dragRotate': False, 'latitude': 35.757444215062094, 'longitude': 51.457852144642786, 'pitch': 0, 'zoom': 12.66606473277238, 'isSplit': False}, 'mapStyle': {'styleType': 'dark', 'topLayerGroups': {}, 'visibleLayerGroups': {'label': True, 'road': True, 'border': False, 'building': True, 'water': True, 'land': True, '3d building': False}, 'threeDBuildingColor': [9.665468314072013, 17.18305478057247, 31.1442867897876], 'mapStyles': {}}}}\n",
        "\n",
        "    sample_current_time = time.time()\n",
        "    for _id in sampled_trip:\n",
        "        random_interval_time = random.gauss(5, 1)\n",
        "        _type = None\n",
        "        if _id == sampled_source:\n",
        "            _type = 'source'\n",
        "        elif _id == sampled_dest:\n",
        "            _type = 'target'\n",
        "        else:\n",
        "            _type = 'in_ride'\n",
        "\n",
        "        data.append({\n",
        "            'lat': pasdaran_nodes_pdf[pasdaran_nodes_pdf[\"id\"] == _id][\"lat\"].values[0],\n",
        "            'lng': pasdaran_nodes_pdf[pasdaran_nodes_pdf[\"id\"] == _id][\"lon\"].values[0],\n",
        "            'timestamp': datetime.datetime.fromtimestamp(sample_current_time),\n",
        "            'type': _type,\n",
        "        })\n",
        "        sample_current_time += random_interval_time\n",
        "\n",
        "\n",
        "    data_pdf = pd.DataFrame(data)\n",
        "\n",
        "    kepler_map = KeplerGl(height=800, data={'sample_ride': data_pdf}, config=kepler_config)\n",
        "\n",
        "    return kepler_map\n",
        "\n",
        "kepler_map = visualize_streets_using_kepler(sampled_trip, sampled_source, sampled_dest)\n",
        "kepler_map"
      ]
    },
    {
      "cell_type": "markdown",
      "metadata": {
        "id": "2GRdEUrF7EgN"
      },
      "source": [
        "Now, we are going to get the points in the middle of the streets. Before, we only had the intersections of the streets(start and end nodes of a section). But we know in real life, we get gps locations also in between and not necessarily in the intersections. So, we should add these points to our data. We call every entity of this type as `Ride`. A ride is defined by 3 parameters:\n",
        "1. `ride_speed`: The speed of the ride which driver is driving with. We assume that the driver is driving with a constant speed.\n",
        "2. `driver_gps_time`: The time interval that the driver sends his/her gps location to the server. (e.g. every 5 seconds)\n",
        "3. `trip`: The specific trip that the driver is driving in. (we created this in the previous cells)\n",
        "\n",
        "Now, you should define a function that gets these parameters and returns the locations (lat/longs) in the ride regarding the given parameters."
      ]
    },
    {
      "cell_type": "code",
      "execution_count": 10,
      "metadata": {
        "id": "WSkJzEmelmbU"
      },
      "outputs": [],
      "source": [
        "def visualize_a_ride(ride_speed, ride_gps_time, trip):\n",
        "    ride_locations = []\n",
        "    for i in range(len(trip) - 1):\n",
        "        u = pasdaran_nodes[pasdaran_nodes[\"id\"] == trip[i]]\n",
        "        v = pasdaran_nodes[pasdaran_nodes[\"id\"] == trip[i + 1]]\n",
        "        # get locations between u and v, wrt ride_speed and ride_gps_time\n",
        "        u_lat = u[\"lat\"].values[0]\n",
        "        u_lon = u[\"lon\"].values[0]\n",
        "        v_lat = v[\"lat\"].values[0]\n",
        "        v_lon = v[\"lon\"].values[0]\n",
        "        # get the distance between u and v\n",
        "        distance = np.sqrt((u_lat - v_lat) ** 2 + (u_lon - v_lon) ** 2)\n",
        "        # get the time between u and v\n",
        "        time = distance / ride_speed\n",
        "        # get the number of locations between u and v\n",
        "        num_locations = int(time / ride_gps_time)\n",
        "        # get the locations between u and v\n",
        "        for j in range(num_locations):\n",
        "            ride_locations.append(\n",
        "                [\n",
        "                    u_lat + (v_lat - u_lat) * j / num_locations,\n",
        "                    u_lon + (v_lon - u_lon) * j / num_locations,\n",
        "                ]\n",
        "            )\n",
        "\n",
        "    return ride_locations"
      ]
    },
    {
      "cell_type": "markdown",
      "metadata": {
        "id": "WuXoo-N37JS8"
      },
      "source": [
        "See a sample ride, printed out."
      ]
    },
    {
      "cell_type": "code",
      "execution_count": 11,
      "metadata": {
        "colab": {
          "base_uri": "https://localhost:8080/"
        },
        "id": "dMtD7q7TlmbU",
        "outputId": "0842e970-ff9a-492a-d0aa-31c44f8a6103"
      },
      "outputs": [
        {
          "data": {
            "text/plain": [
              "[[35.77680206298828, 51.45387649536133],\n",
              " [35.777008056640625, 51.453216552734375],\n",
              " [35.77714920043945, 51.452728271484375],\n",
              " [35.77729034423828, 51.452239990234375],\n",
              " [35.77743148803711, 51.451751708984375],\n",
              " [35.77757263183594, 51.451263427734375],\n",
              " [35.777716636657715, 51.45078182220459],\n",
              " [35.77786064147949, 51.450300216674805],\n",
              " [35.77800464630127, 51.44981861114502],\n",
              " [35.77814865112305, 51.449337005615234],\n",
              " [35.778865814208984, 51.44964599609375],\n",
              " [35.77895991007487, 51.449170430501304],\n",
              " [35.77905400594076, 51.44869486490885]]"
            ]
          },
          "execution_count": 11,
          "metadata": {},
          "output_type": "execute_result"
        }
      ],
      "source": [
        "visualized_ride = visualize_a_ride(ride_speed=1e-3, ride_gps_time=0.45, trip=sampled_trip)\n",
        "visualized_ride"
      ]
    },
    {
      "cell_type": "markdown",
      "metadata": {
        "id": "_Bi1o_2o7Q3r"
      },
      "source": [
        "Visualize the sample ride on the map using `kepler` library. You should define an animation based on the order of the points in the ride, so you can play the animation in the visualization and see the ride!"
      ]
    },
    {
      "cell_type": "code",
      "execution_count": 12,
      "metadata": {
        "colab": {
          "base_uri": "https://localhost:8080/",
          "height": 511
        },
        "id": "lSqTVxIqlmbU",
        "outputId": "7835933e-d766-4b60-ed5e-732ed19fdd77"
      },
      "outputs": [
        {
          "name": "stdout",
          "output_type": "stream",
          "text": [
            "User Guide: https://docs.kepler.gl/docs/keplergl-jupyter\n"
          ]
        },
        {
          "data": {
            "application/vnd.jupyter.widget-view+json": {
              "model_id": "e0ebce375e204f929c252a101cd83985",
              "version_major": 2,
              "version_minor": 0
            },
            "text/plain": [
              "KeplerGl(config={'version': 'v1', 'config': {'visState': {'filters': [{'dataId': ['sample_ride'], 'id': 'io3gb…"
            ]
          },
          "metadata": {},
          "output_type": "display_data"
        }
      ],
      "source": [
        "def visualize_ride_using_kepler(ride):\n",
        "    data = []\n",
        "    kepler_config = {'version': 'v1', 'config': {'visState': {'filters': [{'dataId': ['sample_ride'], 'id': 'io3gbsqzf', 'name': ['timestamp'], 'type': 'timeRange', 'value': [1700239623660, 1700239797294.5928], 'enlarged': True, 'plotType': 'histogram', 'animationWindow': 'incremental', 'yAxis': None, 'speed': 1}], 'layers': [{'id': 'ayoewf8', 'type': 'point', 'config': {'dataId': 'sample_ride', 'label': 'Rides', 'color': [18, 147, 154], 'highlightColor': [252, 242, 26, 255], 'columns': {'lat': 'lat', 'lng': 'lng', 'altitude': None}, 'isVisible': True, 'visConfig': {'radius': 10, 'fixedRadius': False, 'opacity': 0.8, 'outline': False, 'thickness': 2, 'strokeColor': None, 'colorRange': {'name': 'ColorBrewer RdYlGn-6', 'type': 'diverging', 'category': 'ColorBrewer', 'colors': ['#1a9850', '#91cf60', '#d9ef8b', '#fee08b', '#fc8d59', '#d73027'], 'reversed': True}, 'strokeColorRange': {'name': 'Global Warming', 'type': 'sequential', 'category': 'Uber', 'colors': ['#5A1846', '#900C3F', '#C70039', '#E3611C', '#F1920E', '#FFC300']}, 'radiusRange': [0, 42.9], 'filled': True}, 'hidden': False, 'textLabel': []}, 'visualChannels': {'colorField': {'name': 'timestamp', 'type': 'timestamp'}, 'colorScale': 'quantile', 'strokeColorField': None, 'strokeColorScale': 'quantile', 'sizeField': None, 'sizeScale': 'linear'}}], 'interactionConfig': {'tooltip': {'fieldsToShow': {'sample_ride': [{'name': 'timestamp', 'format': None}, {'name': 'type', 'format': None}]}, 'compareMode': False, 'compareType': 'absolute', 'enabled': True}, 'brush': {'size': 0.5, 'enabled': False}, 'geocoder': {'enabled': False}, 'coordinate': {'enabled': False}}, 'layerBlending': 'normal', 'splitMaps': [], 'animationConfig': {'currentTime': None, 'speed': 1}}, 'mapState': {'bearing': 0, 'dragRotate': False, 'latitude': 35.757444215062094, 'longitude': 51.457852144642786, 'pitch': 0, 'zoom': 12.66606473277238, 'isSplit': False}, 'mapStyle': {'styleType': 'dark', 'topLayerGroups': {}, 'visibleLayerGroups': {'label': True, 'road': True, 'border': False, 'building': True, 'water': True, 'land': True, '3d building': False}, 'threeDBuildingColor': [9.665468314072013, 17.18305478057247, 31.1442867897876], 'mapStyles': {}}}}\n",
        "\n",
        "    sample_current_time = time.time()\n",
        "    for i, item in enumerate(ride):\n",
        "        random_interval_time = random.gauss(5, 1)\n",
        "        _type = \"in_ride\" if i != 0 and i != len(ride) - 1 else \"source\" if i == 0 else \"target\"\n",
        "\n",
        "        data.append({\n",
        "            'lat': item[0],\n",
        "            'lng': item[1],\n",
        "            'timestamp': datetime.datetime.fromtimestamp(sample_current_time),\n",
        "            'type': _type,\n",
        "        })\n",
        "        sample_current_time += random_interval_time\n",
        "\n",
        "\n",
        "    data_pdf = pd.DataFrame(data)\n",
        "\n",
        "    kepler_map = KeplerGl(height=800, data={'sample_ride': data_pdf}, config=kepler_config)\n",
        "\n",
        "    return kepler_map\n",
        "\n",
        "kepler_map = visualize_ride_using_kepler(visualized_ride)\n",
        "kepler_map"
      ]
    },
    {
      "cell_type": "markdown",
      "metadata": {
        "id": "DMixk41z8Zil"
      },
      "source": [
        "Now, to complete our dataset, we need to put some random noise on the gps locations. For this sake, we easily add some random noise to the lat/longs of a created `ride`. You should define a function that gets a `ride` and adds some random noise to the lat/longs of the ride. Your function should take in 2 parameters: _ride_ and _gps\\_noise\\_radius_ which is the radius of the circle that you want to add noise to the gps locations. (e.g. 10 meters). The gps noise in assumed to be a normal distribution."
      ]
    },
    {
      "cell_type": "code",
      "execution_count": 13,
      "metadata": {
        "colab": {
          "base_uri": "https://localhost:8080/"
        },
        "id": "-ghTr5-IlmbU",
        "outputId": "69044cc2-556d-4ee2-93aa-b05ed36e9444"
      },
      "outputs": [
        {
          "data": {
            "text/plain": [
              "[[35.77684092689143, 51.45391535926448],\n",
              " [35.77705190825601, 51.45326040434976],\n",
              " [35.77715978561018, 51.4527388566551],\n",
              " [35.77730755957582, 51.45225720557191],\n",
              " [35.77737337238108, 51.45169359332834],\n",
              " [35.777551615879126, 51.451242411777564],\n",
              " [35.777569063017495, 51.45063424856437],\n",
              " [35.77798417116273, 51.45042374635804],\n",
              " [35.77797630019279, 51.44979026503654],\n",
              " [35.77806431956048, 51.449252674052666],\n",
              " [35.778836265823145, 51.44961644770791],\n",
              " [35.77896128224182, 51.44917180266826],\n",
              " [35.77900067050033, 51.448641529468425]]"
            ]
          },
          "execution_count": 13,
          "metadata": {},
          "output_type": "execute_result"
        }
      ],
      "source": [
        "# put a random noise on each (lat, lon) location to simulate the GPS noise (suppoes GPS radius is 3 - 8 meters)\n",
        "def add_noise_to_ride(ride, gps_noise_radius):\n",
        "    noisy_ride = []\n",
        "    for location in ride:\n",
        "        noise = np.random.normal(0, gps_noise_radius)\n",
        "        noisy_ride.append(\n",
        "            [\n",
        "                location[0] + noise,\n",
        "                location[1] + noise,\n",
        "            ]\n",
        "        )\n",
        "\n",
        "    return noisy_ride\n",
        "\n",
        "\n",
        "noisy_ride = add_noise_to_ride(visualized_ride, gps_noise_radius=1e-4)\n",
        "noisy_ride"
      ]
    },
    {
      "cell_type": "markdown",
      "metadata": {
        "id": "ijwtglf39JyI"
      },
      "source": [
        "Visualize a sample `ride` and its corresponding `noisy_ride` on the map."
      ]
    },
    {
      "cell_type": "code",
      "execution_count": 14,
      "metadata": {
        "colab": {
          "base_uri": "https://localhost:8080/",
          "height": 511
        },
        "id": "abyNFZqElmbV",
        "outputId": "b811a58a-6289-406e-afd7-c96e8c1d20b2"
      },
      "outputs": [
        {
          "name": "stdout",
          "output_type": "stream",
          "text": [
            "User Guide: https://docs.kepler.gl/docs/keplergl-jupyter\n"
          ]
        },
        {
          "data": {
            "application/vnd.jupyter.widget-view+json": {
              "model_id": "50b892e2743741f393983386c0759b36",
              "version_major": 2,
              "version_minor": 0
            },
            "text/plain": [
              "KeplerGl(config={'version': 'v1', 'config': {'visState': {'filters': [{'dataId': ['sample_ride'], 'id': 'io3gb…"
            ]
          },
          "metadata": {},
          "output_type": "display_data"
        }
      ],
      "source": [
        "def visualize_ride_using_kepler(ride, noisy_ride):\n",
        "    data = []\n",
        "    kepler_config = {'version': 'v1', 'config': {'visState': {'filters': [{'dataId': ['sample_ride'], 'id': 'io3gbsqzf', 'name': ['timestamp'], 'type': 'timeRange', 'value': [1700239623660, 1700239797294.5928], 'enlarged': True, 'plotType': 'histogram', 'animationWindow': 'incremental', 'yAxis': None, 'speed': 1}], 'layers': [{'id': 'ayoewf8', 'type': 'point', 'config': {'dataId': 'sample_ride', 'label': 'Rides', 'highlightColor': [252, 242, 26, 255], 'columns': {'lat': 'lat', 'lng': 'lng', 'altitude': None}, 'isVisible': True, 'visConfig': {'radius': 10, 'fixedRadius': False, 'opacity': 0.8, 'outline': False, 'thickness': 2, 'strokeColor': None, 'colorRange': {'name': 'ColorBrewer RdYlGn-6', 'type': 'diverging', 'category': 'ColorBrewer', 'colors': ['#1a9850', '#91cf60', '#d9ef8b', '#fee08b', '#fc8d59', '#d73027'], 'reversed': True}, 'strokeColorRange': {'name': 'Global Warming', 'type': 'sequential', 'category': 'Uber', 'colors': ['#5A1846', '#900C3F', '#C70039', '#E3611C', '#F1920E', '#FFC300']}, 'radiusRange': [0, 42.9], 'filled': True}, 'hidden': False, 'textLabel': []}, 'visualChannels': {'colorField': {'name': 'timestamp', 'type': 'timestamp'}, 'colorScale': 'quantile', 'strokeColorField': None, 'strokeColorScale': 'quantile', 'sizeField': None, 'sizeScale': 'linear'}}], 'interactionConfig': {'tooltip': {'fieldsToShow': {'sample_ride': [{'name': 'timestamp', 'format': None}, {'name': 'type', 'format': None}]}, 'compareMode': False, 'compareType': 'absolute', 'enabled': True}, 'brush': {'size': 0.5, 'enabled': False}, 'geocoder': {'enabled': False}, 'coordinate': {'enabled': False}}, 'layerBlending': 'normal', 'splitMaps': [], 'animationConfig': {'currentTime': None, 'speed': 1}}, 'mapState': {'bearing': 0, 'dragRotate': False, 'latitude': 35.757444215062094, 'longitude': 51.457852144642786, 'pitch': 0, 'zoom': 12.66606473277238, 'isSplit': False}, 'mapStyle': {'styleType': 'dark', 'topLayerGroups': {}, 'visibleLayerGroups': {'label': True, 'road': True, 'border': False, 'building': True, 'water': True, 'land': True, '3d building': False}, 'threeDBuildingColor': [9.665468314072013, 17.18305478057247, 31.1442867897876], 'mapStyles': {}}}}\n",
        "\n",
        "    sample_current_time = time.time()\n",
        "    # add \"ride\" points as green and \"noisy_ride\" points as red\n",
        "    for i, item in enumerate(ride):\n",
        "        random_interval_time = random.gauss(5, 1)\n",
        "        _type = \"in_ride\" if i != 0 and i != len(ride) - 1 else \"source\" if i == 0 else \"target\"\n",
        "\n",
        "        data.append({\n",
        "            'lat': item[0],\n",
        "            'lng': item[1],\n",
        "            'timestamp': datetime.datetime.fromtimestamp(sample_current_time),\n",
        "            'type': _type,\n",
        "        })\n",
        "        sample_current_time += random_interval_time\n",
        "    \n",
        "    for i, item in enumerate(noisy_ride):\n",
        "        random_interval_time = random.gauss(5, 1)\n",
        "        _type = \"in_ride\" if i != 0 and i != len(noisy_ride) - 1 else \"source\" if i == 0 else \"target\"\n",
        "\n",
        "        data.append({\n",
        "            'lat': item[0],\n",
        "            'lng': item[1],\n",
        "            'timestamp': datetime.datetime.fromtimestamp(sample_current_time),\n",
        "            'type': _type,\n",
        "        })\n",
        "        sample_current_time += random_interval_time\n",
        "\n",
        "    # put main points as green and noisy points as red\n",
        "    data_pdf = pd.DataFrame(data)\n",
        "\n",
        "    kepler_map = KeplerGl(height=800, data={'sample_ride': data_pdf}, config=kepler_config)\n",
        "\n",
        "    return kepler_map\n",
        "\n",
        "# Assuming visualized_ride and noisy_ride are defined elsewhere in your code\n",
        "visualize_ride_using_kepler(visualized_ride, noisy_ride)\n"
      ]
    },
    {
      "cell_type": "markdown",
      "metadata": {
        "id": "PrNNSj6x-DWd"
      },
      "source": [
        "Now, we create our dataset, We create 20 noisy_rides for each trip."
      ]
    },
    {
      "cell_type": "code",
      "execution_count": 15,
      "metadata": {
        "id": "FxA8kZXP-DHE"
      },
      "outputs": [
        {
          "name": "stderr",
          "output_type": "stream",
          "text": [
            "/var/folders/rd/pptsn4g94yn355rms_txgp680000gn/T/ipykernel_2825/3250589871.py:11: FutureWarning: The behavior of DataFrame concatenation with empty or all-NA entries is deprecated. In a future version, this will no longer exclude empty or all-NA columns when determining the result dtypes. To retain the old behavior, exclude the relevant entries before the concat operation.\n",
            "  df = pd.concat([df,pd.DataFrame({'trip_id': i, 'index': j, 'source': sampled_source, 'destination': sampled_dest, 'lat': [noisy_ride[j][0]], 'lon': [noisy_ride[j][1]], 'ride_speed': rs, 'ride_gps_time':rgt})])\n",
            "/var/folders/rd/pptsn4g94yn355rms_txgp680000gn/T/ipykernel_2825/3250589871.py:12: FutureWarning: The behavior of DataFrame concatenation with empty or all-NA entries is deprecated. In a future version, this will no longer exclude empty or all-NA columns when determining the result dtypes. To retain the old behavior, exclude the relevant entries before the concat operation.\n",
            "  df_orig = pd.concat([df_orig,pd.DataFrame({'trip_id': i, 'index': j, 'source': sampled_source, 'destination': sampled_dest, 'lat': [visualized_ride[j][0]], 'lon': [visualized_ride[j][1]], 'ride_speed': rs, 'ride_gps_time':rgt})])\n"
          ]
        }
      ],
      "source": [
        "def create_trip_dataset(trips = 20):\n",
        "    df = pd.DataFrame(columns=['trip_id', 'index', 'source' ,'destination', 'lat', 'lon', 'ride_speed', 'ride_gps_time'])\n",
        "    df_orig = pd.DataFrame(columns=['trip_id', 'index', 'source' ,'destination', 'lat', 'lon', 'ride_speed', 'ride_gps_time'])\n",
        "    for i in range(trips):\n",
        "        rs = np.round(np.random.normal(1e-3, 1e-4),6)\n",
        "        rgt = np.round(np.random.normal(0.45, 0.1),3)\n",
        "        sampled_trip, sampled_source, sampled_dest = sample_trip(pasdaran_nodes, pasdaran_streets)\n",
        "        visualized_ride = visualize_a_ride(ride_speed=rs, ride_gps_time=rgt, trip=sampled_trip)\n",
        "        noisy_ride = add_noise_to_ride(visualized_ride, gps_noise_radius=1e-4)\n",
        "        for j in range(len(noisy_ride)):\n",
        "            df = pd.concat([df,pd.DataFrame({'trip_id': i, 'index': j, 'source': sampled_source, 'destination': sampled_dest, 'lat': [noisy_ride[j][0]], 'lon': [noisy_ride[j][1]], 'ride_speed': rs, 'ride_gps_time':rgt})])\n",
        "            df_orig = pd.concat([df_orig,pd.DataFrame({'trip_id': i, 'index': j, 'source': sampled_source, 'destination': sampled_dest, 'lat': [visualized_ride[j][0]], 'lon': [visualized_ride[j][1]], 'ride_speed': rs, 'ride_gps_time':rgt})])\n",
        "    return df, df_orig\n",
        "\n",
        "trip_dataset_1, original_dt = create_trip_dataset()"
      ]
    },
    {
      "cell_type": "code",
      "execution_count": 16,
      "metadata": {
        "id": "WOgSl_2gBtUT"
      },
      "outputs": [],
      "source": [
        "trip_dataset_1.to_csv(\"noisy_test_dataset.csv\")\n",
        "original_dt.to_csv(\"original_test_dataset.csv\")"
      ]
    },
    {
      "cell_type": "markdown",
      "metadata": {
        "id": "labjTZ3hivDJ"
      },
      "source": [
        "# HMM"
      ]
    },
    {
      "cell_type": "markdown",
      "metadata": {},
      "source": [
        "In this section, we want to use the dataset that we created in the previous section to train an HMM model. We want to use HMM models to  **denoise** the gps locations of the rides. We assume that the gps locations of the rides are noisy and we want to denoise them using HMM models. The observations in each _timestamp_ are the observed noisy points in the dataset."
      ]
    },
    {
      "cell_type": "markdown",
      "metadata": {},
      "source": [
        "You should implement a class (or function) named HMM which gets the noisy observations and the `streets` of the map (of course, this is not noisy. we saw that as `pasdaran_streets` in the previous section). You should calculate the transition matrix and emission matrix of the HMM model. You should also implement the `viterbi` algorithm to find the most probable sequence of hidden states (which are the points in the streets) given the noisy observations. Finally, your implementation should be capable of returning the denoised gps locations of the rides. Note that how you define your features, and your states. Be creative!"
      ]
    },
    {
      "cell_type": "code",
      "execution_count": 17,
      "metadata": {
        "colab": {
          "base_uri": "https://localhost:8080/"
        },
        "id": "eljM3-Z6SV8k",
        "outputId": "7947e14a-11af-482c-b872-50ae5e11d988"
      },
      "outputs": [
        {
          "name": "stdout",
          "output_type": "stream",
          "text": [
            "(1.4142135623730951, (3.0, 3.0))\n"
          ]
        }
      ],
      "source": [
        "import math\n",
        "\n",
        "def distance_point_line(start, end, pnt):\n",
        "    def dot(v,w):\n",
        "        x,y = v\n",
        "        X,Y = w\n",
        "        return x*X + y*Y\n",
        "\n",
        "    def length(v):\n",
        "        x,y = v\n",
        "        return math.sqrt(x*x + y*y)\n",
        "\n",
        "    def vector(b,e):\n",
        "        x,y = b\n",
        "        X,Y = e\n",
        "        return (X-x, Y-y)\n",
        "\n",
        "    def unit(v):\n",
        "        x,y = v\n",
        "        mag = length(v)\n",
        "        return (x/mag, y/mag)\n",
        "\n",
        "    def distance(p0,p1):\n",
        "        return length(vector(p0,p1))\n",
        "\n",
        "    def scale(v,sc):\n",
        "        x,y = v\n",
        "        return (x * sc, y * sc)\n",
        "\n",
        "    def add(v,w):\n",
        "        x,y = v\n",
        "        X,Y = w\n",
        "        return (x+X, y+Y)\n",
        "    line_vec = vector(start, end)\n",
        "    pnt_vec = vector(start, pnt)\n",
        "    line_len = length(line_vec)\n",
        "    line_unitvec = unit(line_vec)\n",
        "    pnt_vec_scaled = scale(pnt_vec, 1.0/line_len)\n",
        "    t = dot(line_unitvec, pnt_vec_scaled)\n",
        "    if t < 0.0:\n",
        "        t = 0.0\n",
        "    elif t > 1.0:\n",
        "        t = 1.0\n",
        "    nearest = scale(line_vec, t)\n",
        "    dist = distance(nearest, pnt_vec)\n",
        "    nearest = add(nearest, start)\n",
        "    return (dist, nearest)\n",
        "\n",
        "print(distance_point_line([1, 1], [3, 3], [4, 4]))\n"
      ]
    },
    {
      "cell_type": "code",
      "execution_count": 18,
      "metadata": {
        "colab": {
          "base_uri": "https://localhost:8080/"
        },
        "id": "pTeP8ZUcH7bL",
        "outputId": "362aeb24-da1d-41ea-b5e6-3b043cffacf7"
      },
      "outputs": [
        {
          "name": "stdout",
          "output_type": "stream",
          "text": [
            "100000\n"
          ]
        }
      ],
      "source": [
        "def shortest_dist(source_node, destination_node, nodes, streets):\n",
        "    # sample source and destination nodes\n",
        "    prestreets = streets\n",
        "    # find the shortest path between source and destination\n",
        "    streets = nx.from_pandas_edgelist(\n",
        "        streets, \"u\", \"v\", [\"street_id\", \"length\", \"oneway\"]\n",
        "    )\n",
        "    #while not check_node_in_street_df(source_node,prestreets) or not check_node_in_street_df(destination_node,prestreets) or not nx.has_path(streets,source=source_node,target=destination_node):\n",
        "      #source_node = np.random.choice(nodes[\"id\"].values)\n",
        "      #destination_node = np.random.choice(nodes[\"id\"].values)\n",
        "    try:\n",
        "        shortest_path_length = nx.shortest_path_length(\n",
        "                streets, source=source_node, target=destination_node, weight=\"length\"\n",
        "            )\n",
        "        return shortest_path_length\n",
        "    except Exception as e:\n",
        "        return 100000\n",
        "print(shortest_dist(423833948, 2022634168, pasdaran_nodes, pasdaran_streets))\n"
      ]
    },
    {
      "cell_type": "code",
      "execution_count": 19,
      "metadata": {
        "colab": {
          "base_uri": "https://localhost:8080/"
        },
        "id": "2uPqUJzZZh7Q",
        "outputId": "52638369-e8d8-4501-970c-f1b427f85313"
      },
      "outputs": [
        {
          "name": "stderr",
          "output_type": "stream",
          "text": [
            "/var/folders/rd/pptsn4g94yn355rms_txgp680000gn/T/ipykernel_2825/3847590859.py:57: RuntimeWarning: divide by zero encountered in scalar divide\n",
            "  trans = abs(dist_obs * street[\"length\"] / (abs(street[\"u_lat\"] - street2[\"u_lat\"])) - min(d1, d2, d3, d4))\n"
          ]
        }
      ],
      "source": [
        "import scipy.stats\n",
        "from itertools import repeat\n",
        "\n",
        "def prob_point_given_line(start, end, point):\n",
        "    return scipy.stats.norm(0, 1e-4).pdf(distance_point_line(start, end, point)[0])\n",
        "\n",
        "\n",
        "def HMM(observations, streets):\n",
        "    nSamples = len(observations)\n",
        "    nStates = len(streets)\n",
        "    probs = [[] for i in repeat(None, nSamples)]\n",
        "    #print(probs)\n",
        "    prob_streets = [[] for i in repeat(None, nSamples)]\n",
        "    prv_streets = [[] for i in repeat(None, nSamples - 1)]\n",
        "\n",
        "\n",
        "    obs_0 = [observations.iloc[0][\"lat\"], observations.iloc[0][\"lon\"]]\n",
        "    for i, street in enumerate(streets.iterrows()):\n",
        "      street = street[1]\n",
        "      prob_of_select_first = prob_point_given_line([street[\"u_lat\"], street[\"u_lon\"]], [street[\"v_lat\"], street[\"v_lon\"]], obs_0)\n",
        "      if prob_of_select_first > 1e-5:\n",
        "          probs[0].append(prob_of_select_first)\n",
        "          prob_streets[0].append(street)\n",
        "    #print(prob_streets[0])\n",
        "\n",
        "    for j in range(1, nSamples):\n",
        "        #print(\"sample\" + str(j))\n",
        "        for i, street in enumerate(streets.iterrows()):\n",
        "\n",
        "            street = street[1]\n",
        "            #state_probs = []\n",
        "            obs_prev = [observations.iloc[j-1][\"lat\"], observations.iloc[j-1][\"lon\"]]\n",
        "            obs_present = [observations.iloc[j][\"lat\"], observations.iloc[j][\"lon\"]]\n",
        "\n",
        "            dist_obs = np.linalg.norm(np.array(obs_prev) - np.array(obs_present))\n",
        "            street_1_start, street_1_end = street[\"u\"], street[\"v\"]\n",
        "            all_trans = []\n",
        "            all_prev_streets = []\n",
        "            emit = prob_point_given_line([street[\"u_lat\"], street[\"u_lon\"]], [street[\"v_lat\"], street[\"v_lon\"]], obs_present)\n",
        "            if emit > 1e-5:\n",
        "                for k, street2 in enumerate(prob_streets[j - 1]):\n",
        "                    #street2 = street2[1]\n",
        "\n",
        "                    street_2_start, street_2_end = street2[\"u\"], street2[\"v\"]\n",
        "\n",
        "                    proj_point1 = (distance_point_line([street[\"u_lat\"], street[\"u_lon\"]], [street[\"v_lat\"], street[\"v_lon\"]], obs_present))\n",
        "                    proj_point2 = (distance_point_line([street2[\"u_lat\"], street2[\"u_lon\"]], [street2[\"v_lat\"], street2[\"v_lon\"]], obs_prev))\n",
        "\n",
        "\n",
        "                    state_to_start1 = (street[\"u_lat\"] - proj_point1[1][0]) / (street[\"u_lat\"] - street[\"v_lat\"] + 1e-6) * street[\"length\"]\n",
        "                    state_to_start2 = (street2[\"u_lat\"] - proj_point2[1][0]) / (street2[\"u_lat\"] - street2[\"v_lat\"] + 1e-6) * street2[\"length\"]\n",
        "                    if street2[\"street_id\"] != street[\"street_id\"]:\n",
        "                        d1 = shortest_dist(street[\"u\"], street2[\"u\"], pasdaran_nodes, pasdaran_streets) #+ state_to_start1 + state_to_start2\n",
        "                        d2 = shortest_dist(street[\"u\"], street2[\"v\"], pasdaran_nodes, pasdaran_streets) #+ state_to_start1 + street2[\"length\"] - state_to_start2\n",
        "                        d3 = shortest_dist(street[\"v\"], street2[\"u\"], pasdaran_nodes, pasdaran_streets) #+ street[\"length\"] - state_to_start1 + state_to_start2\n",
        "                        d4 = shortest_dist(street[\"v\"], street2[\"v\"], pasdaran_nodes, pasdaran_streets) #+ street[\"length\"] + street2[\"length\"] - state_to_start1 + state_to_start2\n",
        "                        trans = abs(dist_obs * street[\"length\"] / (abs(street[\"u_lat\"] - street2[\"u_lat\"])) - min(d1, d2, d3, d4))\n",
        "                    else:\n",
        "                        trans = abs(state_to_start1 - state_to_start2)\n",
        "                #trans = abs(dist_obs * street[\"length\"] / abs(street[\"u_lat\"] - street2[\"u_lat\"]) - min(d1, d2, d3, d4))\n",
        "\n",
        "                    trans = np.exp(-trans / 100) / 100\n",
        "                    #print(trans)\n",
        "                    #print(trans, emit, probs[j - 1][k])\n",
        "                    if trans * emit * probs[j - 1][k] > 1e-10:\n",
        "                      all_trans.append(trans * emit * probs[j - 1][k])\n",
        "                      all_prev_streets.append(street2)\n",
        "                if len(all_trans) > 0:\n",
        "                  max_prob = max(all_trans)\n",
        "                  #print(max_prob)\n",
        "                #print(probs[j])\n",
        "                  probs[j].append(max_prob)\n",
        "                  prob_streets[j].append(street)\n",
        "                  prv_streets[j-1].append(all_prev_streets[all_trans.index(max_prob)])\n",
        "\n",
        "    best_path = []\n",
        "    best_path.append(prob_streets[-1][probs[-1].index(max(probs[-1]))])\n",
        "    for j in range(nSamples - 1, 0, -1):\n",
        "        index = probs[j].index(max(probs[j]))\n",
        "        best_path.append(prv_streets[j-1][index])\n",
        "\n",
        "    final_project = []\n",
        "\n",
        "    for j in range(0, nSamples):\n",
        "        obs = [observations.iloc[nSamples - j - 1][\"lat\"], observations.iloc[nSamples - j - 1][\"lon\"]]\n",
        "        final_project.append(distance_point_line([best_path[j][\"u_lat\"], best_path[j][\"u_lon\"]], [best_path[j][\"v_lat\"], best_path[j][\"v_lon\"]], obs))\n",
        "\n",
        "    return [list(i[1]) for i in reversed(final_project)]\n",
        "\n",
        "first_result = HMM(trip_dataset_1.loc[trip_dataset_1['trip_id'] == 0], pasdaran_streets)"
      ]
    },
    {
      "cell_type": "markdown",
      "metadata": {},
      "source": [
        "Visualize a sample denoised _ride_ using your HMM model. Put `original_points` and `denoised_points` on the map. Use different colors for each of them to make them distinct from eachother. You should use `kepler` library for this purpose."
      ]
    },
    {
      "cell_type": "code",
      "execution_count": 20,
      "metadata": {},
      "outputs": [
        {
          "name": "stdout",
          "output_type": "stream",
          "text": [
            "User Guide: https://docs.kepler.gl/docs/keplergl-jupyter\n"
          ]
        },
        {
          "data": {
            "application/vnd.jupyter.widget-view+json": {
              "model_id": "d1b92d0e7e5e4d489070eb0a53585b23",
              "version_major": 2,
              "version_minor": 0
            },
            "text/plain": [
              "KeplerGl(config={'version': 'v1', 'config': {'visState': {'layers': [{'id': 'denoised_layer', 'type': 'point',…"
            ]
          },
          "metadata": {},
          "output_type": "display_data"
        }
      ],
      "source": [
        "def visualize_result_of_denoising(denoised_points, original_points):\n",
        "    data = []\n",
        "    kepler_config = {\n",
        "        \"version\": \"v1\",\n",
        "        \"config\": {\n",
        "            \"visState\": {\n",
        "                \"layers\": [\n",
        "                    {\n",
        "                        \"id\": \"denoised_layer\",\n",
        "                        \"type\": \"point\",\n",
        "                        \"config\": {\n",
        "                            \"dataId\": \"denoised_data\",\n",
        "                            \"label\": \"Denoised Points\",\n",
        "                            \"columns\": {\"lat\": \"lat\", \"lng\": \"lng\", \"altitude\": None},\n",
        "                            \"isVisible\": True,\n",
        "                            \"visConfig\": {\n",
        "                                \"radius\": 10,\n",
        "                                \"fixedRadius\": False,\n",
        "                                \"opacity\": 0.8,\n",
        "                                \"outline\": False,\n",
        "                                \"thickness\": 2,\n",
        "                                \"strokeColor\": None,\n",
        "                                \"color\": [0, 255, 0],  # Green for 'denoised'\n",
        "                                \"filled\": True,\n",
        "                            },\n",
        "                            \"hidden\": False,\n",
        "                            \"textLabel\": [],\n",
        "                        },\n",
        "                        \"visualChannels\": {\n",
        "                            \"colorField\": {\"name\": \"timestamp\", \"type\": \"timestamp\"},\n",
        "                            \"colorScale\": \"quantile\",\n",
        "                            \"strokeColorField\": None,\n",
        "                            \"strokeColorScale\": \"quantile\",\n",
        "                            \"sizeField\": None,\n",
        "                            \"sizeScale\": \"linear\",\n",
        "                        },\n",
        "                    },\n",
        "                    {\n",
        "                        \"id\": \"original_layer\",\n",
        "                        \"type\": \"point\",\n",
        "                        \"config\": {\n",
        "                            \"dataId\": \"original_data\",\n",
        "                            \"label\": \"Original Points\",\n",
        "                            \"columns\": {\"lat\": \"lat\", \"lng\": \"lng\", \"altitude\": None},\n",
        "                            \"isVisible\": True,\n",
        "                            \"visConfig\": {\n",
        "                                \"radius\": 10,\n",
        "                                \"fixedRadius\": False,\n",
        "                                \"opacity\": 0.8,\n",
        "                                \"outline\": False,\n",
        "                                \"thickness\": 2,\n",
        "                                \"strokeColor\": None,\n",
        "                                \"color\": [255, 0, 0],  # Red for 'original'\n",
        "                                \"filled\": True,\n",
        "                            },\n",
        "                            \"hidden\": False,\n",
        "                            \"textLabel\": [],\n",
        "                        },\n",
        "                        \"visualChannels\": {\n",
        "                            \"colorField\": {\"name\": \"timestamp\", \"type\": \"timestamp\"},\n",
        "                            \"colorScale\": \"quantile\",\n",
        "                            \"strokeColorField\": None,\n",
        "                            \"strokeColorScale\": \"quantile\",\n",
        "                            \"sizeField\": None,\n",
        "                            \"sizeScale\": \"linear\",\n",
        "                        },\n",
        "                    },\n",
        "                ],\n",
        "                \"interactionConfig\": {\n",
        "                    \"tooltip\": {\n",
        "                        \"fieldsToShow\": {\n",
        "                            \"sample_ride\": [\n",
        "                                {\"name\": \"timestamp\", \"format\": None},\n",
        "                                {\"name\": \"type\", \"format\": None},\n",
        "                            ]\n",
        "                        },\n",
        "                        \"compareMode\": False,\n",
        "                        \"compareType\": \"absolute\",\n",
        "                        \"enabled\": True,\n",
        "                    },\n",
        "                    \"brush\": {\"size\": 0.5, \"enabled\": False},\n",
        "                    \"geocoder\": {\"enabled\": False},\n",
        "                    \"coordinate\": {\"enabled\": False},\n",
        "                },\n",
        "                \"layerBlending\": \"normal\",\n",
        "                \"splitMaps\": [],\n",
        "                \"animationConfig\": {\"currentTime\": None, \"speed\": 1},\n",
        "            },\n",
        "            \"mapState\": {\n",
        "                \"bearing\": 0,\n",
        "                \"dragRotate\": False,\n",
        "                \"latitude\": 35.757444215062094,\n",
        "                \"longitude\": 51.457852144642786,\n",
        "                \"pitch\": 0,\n",
        "                \"zoom\": 12.66606473277238,\n",
        "                \"isSplit\": False,\n",
        "            },\n",
        "            \"mapStyle\": {\n",
        "                \"styleType\": \"dark\",\n",
        "                \"topLayerGroups\": {},\n",
        "                \"visibleLayerGroups\": {\n",
        "                    \"label\": True,\n",
        "                    \"road\": True,\n",
        "                    \"border\": False,\n",
        "                    \"building\": True,\n",
        "                    \"water\": True,\n",
        "                    \"land\": True,\n",
        "                    \"3d building\": False,\n",
        "                },\n",
        "                \"threeDBuildingColor\": [\n",
        "                    9.665468314072013,\n",
        "                    17.18305478057247,\n",
        "                    31.1442867897876,\n",
        "                ],\n",
        "                \"mapStyles\": {},\n",
        "            },\n",
        "        },\n",
        "    }\n",
        "\n",
        "    # add \"denoised\" points as green\n",
        "    for i, item in enumerate(denoised_points):\n",
        "        _type = (\n",
        "            \"in_ride\"\n",
        "            if i != 0 and i != len(denoised_points) - 1\n",
        "            else \"source\"\n",
        "            if i == 0\n",
        "            else \"target\"\n",
        "        )\n",
        "\n",
        "        data.append(\n",
        "            {\n",
        "                \"lat\": item[0],\n",
        "                \"lng\": item[1],\n",
        "                \"type\": _type,\n",
        "            }\n",
        "        )\n",
        "\n",
        "    # put denoised points as green\n",
        "    denoised_data_pdf = pd.DataFrame(data)\n",
        "\n",
        "    data = []  # Reset data for original points\n",
        "\n",
        "    # add \"original\" points as red\n",
        "    for i, item in enumerate(original_points.iterrows()):\n",
        "        _type = (\n",
        "            \"in_ride\"\n",
        "            if i != 0 and i != len(original_points) - 1\n",
        "            else \"source\"\n",
        "            if i == 0\n",
        "            else \"target\"\n",
        "        )\n",
        "\n",
        "        data.append(\n",
        "            {\n",
        "                \"lat\": item[1][\"lat\"],\n",
        "                \"lng\": item[1][\"lon\"],\n",
        "                \"type\": _type,\n",
        "            }\n",
        "        )\n",
        "\n",
        "    # put original points as red\n",
        "    original_data_pdf = pd.DataFrame(data)\n",
        "\n",
        "    # Combine both data frames\n",
        "    data_frames = {\n",
        "        \"denoised_data\": denoised_data_pdf,\n",
        "        \"original_data\": original_data_pdf,\n",
        "    }\n",
        "\n",
        "    kepler_map = KeplerGl(height=800, data=data_frames, config=kepler_config)\n",
        "\n",
        "    return kepler_map\n",
        "\n",
        "\n",
        "# Assuming first_result and trip_dataset_1 are defined elsewhere in your code\n",
        "visualize_result_of_denoising(\n",
        "    first_result, trip_dataset_1.loc[trip_dataset_1[\"trip_id\"] == 0]\n",
        ")"
      ]
    },
    {
      "cell_type": "markdown",
      "metadata": {},
      "source": [
        "# Testing your model"
      ]
    },
    {
      "cell_type": "markdown",
      "metadata": {},
      "source": [
        "In this section, you should test your model. You could use your dataset (which you generated, step-by-step) until now, to implement, debug and train your model. Now, you should load a `test_dataset` that we provided to you as `test_dataset.csv` and run your model on it to denoise the points. You should put the denoised points in a csv file named `denoised_test_dataset.csv` and submit it with your notebook. Also, You should report the **Mean haversine distance (MHD)** as the measaure of the loss of your model. Go through each trip in the `test_dataset` and calculate the MHD for each trip. Finally, report the average of the MHDs of all the trips in the `test_dataset` as the MHD of your model."
      ]
    },
    {
      "cell_type": "code",
      "execution_count": 21,
      "metadata": {},
      "outputs": [
        {
          "data": {
            "text/html": [
              "<div>\n",
              "<style scoped>\n",
              "    .dataframe tbody tr th:only-of-type {\n",
              "        vertical-align: middle;\n",
              "    }\n",
              "\n",
              "    .dataframe tbody tr th {\n",
              "        vertical-align: top;\n",
              "    }\n",
              "\n",
              "    .dataframe thead th {\n",
              "        text-align: right;\n",
              "    }\n",
              "</style>\n",
              "<table border=\"1\" class=\"dataframe\">\n",
              "  <thead>\n",
              "    <tr style=\"text-align: right;\">\n",
              "      <th></th>\n",
              "      <th>Unnamed: 0</th>\n",
              "      <th>trip_id</th>\n",
              "      <th>index</th>\n",
              "      <th>source</th>\n",
              "      <th>destination</th>\n",
              "      <th>lat</th>\n",
              "      <th>lon</th>\n",
              "      <th>ride_speed</th>\n",
              "      <th>ride_gps_time</th>\n",
              "    </tr>\n",
              "  </thead>\n",
              "  <tbody>\n",
              "    <tr>\n",
              "      <th>0</th>\n",
              "      <td>0</td>\n",
              "      <td>0</td>\n",
              "      <td>0</td>\n",
              "      <td>4695978684</td>\n",
              "      <td>4698502266</td>\n",
              "      <td>35.778339</td>\n",
              "      <td>51.454990</td>\n",
              "      <td>0.001095</td>\n",
              "      <td>0.507</td>\n",
              "    </tr>\n",
              "    <tr>\n",
              "      <th>1</th>\n",
              "      <td>0</td>\n",
              "      <td>0</td>\n",
              "      <td>1</td>\n",
              "      <td>4695978684</td>\n",
              "      <td>4698502266</td>\n",
              "      <td>35.778603</td>\n",
              "      <td>51.453945</td>\n",
              "      <td>0.001095</td>\n",
              "      <td>0.507</td>\n",
              "    </tr>\n",
              "    <tr>\n",
              "      <th>2</th>\n",
              "      <td>0</td>\n",
              "      <td>0</td>\n",
              "      <td>2</td>\n",
              "      <td>4695978684</td>\n",
              "      <td>4698502266</td>\n",
              "      <td>35.778553</td>\n",
              "      <td>51.453321</td>\n",
              "      <td>0.001095</td>\n",
              "      <td>0.507</td>\n",
              "    </tr>\n",
              "    <tr>\n",
              "      <th>3</th>\n",
              "      <td>0</td>\n",
              "      <td>0</td>\n",
              "      <td>3</td>\n",
              "      <td>4695978684</td>\n",
              "      <td>4698502266</td>\n",
              "      <td>35.778503</td>\n",
              "      <td>51.452698</td>\n",
              "      <td>0.001095</td>\n",
              "      <td>0.507</td>\n",
              "    </tr>\n",
              "    <tr>\n",
              "      <th>4</th>\n",
              "      <td>0</td>\n",
              "      <td>0</td>\n",
              "      <td>4</td>\n",
              "      <td>4695978684</td>\n",
              "      <td>4698502266</td>\n",
              "      <td>35.778378</td>\n",
              "      <td>51.451622</td>\n",
              "      <td>0.001095</td>\n",
              "      <td>0.507</td>\n",
              "    </tr>\n",
              "  </tbody>\n",
              "</table>\n",
              "</div>"
            ],
            "text/plain": [
              "   Unnamed: 0  trip_id  index      source  destination        lat        lon  \\\n",
              "0           0        0      0  4695978684   4698502266  35.778339  51.454990   \n",
              "1           0        0      1  4695978684   4698502266  35.778603  51.453945   \n",
              "2           0        0      2  4695978684   4698502266  35.778553  51.453321   \n",
              "3           0        0      3  4695978684   4698502266  35.778503  51.452698   \n",
              "4           0        0      4  4695978684   4698502266  35.778378  51.451622   \n",
              "\n",
              "   ride_speed  ride_gps_time  \n",
              "0    0.001095          0.507  \n",
              "1    0.001095          0.507  \n",
              "2    0.001095          0.507  \n",
              "3    0.001095          0.507  \n",
              "4    0.001095          0.507  "
            ]
          },
          "execution_count": 21,
          "metadata": {},
          "output_type": "execute_result"
        }
      ],
      "source": [
        "from haversine import haversine\n",
        "from tqdm import tqdm\n",
        "\n",
        "\n",
        "def mean_haversine_distance(denoised_points, original_points):\n",
        "    distances = []\n",
        "    for i, item in enumerate(denoised_points):\n",
        "        distances.append(\n",
        "            haversine(\n",
        "                (item[0], item[1]),\n",
        "                (original_points.iloc[i][\"lat\"], original_points.iloc[i][\"lon\"]),\n",
        "            )\n",
        "        )\n",
        "\n",
        "    return np.mean(distances)\n",
        "\n",
        "\n",
        "test_dataset_noisy = pd.read_csv(\"noisy_test_dataset.csv\")\n",
        "test_dataset_original = pd.read_csv(\"original_test_dataset.csv\")\n",
        "\n",
        "test_dataset_original.head()"
      ]
    },
    {
      "cell_type": "code",
      "execution_count": 22,
      "metadata": {},
      "outputs": [
        {
          "data": {
            "text/html": [
              "<div>\n",
              "<style scoped>\n",
              "    .dataframe tbody tr th:only-of-type {\n",
              "        vertical-align: middle;\n",
              "    }\n",
              "\n",
              "    .dataframe tbody tr th {\n",
              "        vertical-align: top;\n",
              "    }\n",
              "\n",
              "    .dataframe thead th {\n",
              "        text-align: right;\n",
              "    }\n",
              "</style>\n",
              "<table border=\"1\" class=\"dataframe\">\n",
              "  <thead>\n",
              "    <tr style=\"text-align: right;\">\n",
              "      <th></th>\n",
              "      <th>Unnamed: 0</th>\n",
              "      <th>trip_id</th>\n",
              "      <th>index</th>\n",
              "      <th>source</th>\n",
              "      <th>destination</th>\n",
              "      <th>lat</th>\n",
              "      <th>lon</th>\n",
              "      <th>ride_speed</th>\n",
              "      <th>ride_gps_time</th>\n",
              "    </tr>\n",
              "  </thead>\n",
              "  <tbody>\n",
              "    <tr>\n",
              "      <th>0</th>\n",
              "      <td>0</td>\n",
              "      <td>0</td>\n",
              "      <td>0</td>\n",
              "      <td>4695978684</td>\n",
              "      <td>4698502266</td>\n",
              "      <td>35.778304</td>\n",
              "      <td>51.454955</td>\n",
              "      <td>0.001095</td>\n",
              "      <td>0.507</td>\n",
              "    </tr>\n",
              "    <tr>\n",
              "      <th>1</th>\n",
              "      <td>0</td>\n",
              "      <td>0</td>\n",
              "      <td>1</td>\n",
              "      <td>4695978684</td>\n",
              "      <td>4698502266</td>\n",
              "      <td>35.778631</td>\n",
              "      <td>51.453973</td>\n",
              "      <td>0.001095</td>\n",
              "      <td>0.507</td>\n",
              "    </tr>\n",
              "    <tr>\n",
              "      <th>2</th>\n",
              "      <td>0</td>\n",
              "      <td>0</td>\n",
              "      <td>2</td>\n",
              "      <td>4695978684</td>\n",
              "      <td>4698502266</td>\n",
              "      <td>35.778324</td>\n",
              "      <td>51.453093</td>\n",
              "      <td>0.001095</td>\n",
              "      <td>0.507</td>\n",
              "    </tr>\n",
              "    <tr>\n",
              "      <th>3</th>\n",
              "      <td>0</td>\n",
              "      <td>0</td>\n",
              "      <td>3</td>\n",
              "      <td>4695978684</td>\n",
              "      <td>4698502266</td>\n",
              "      <td>35.778708</td>\n",
              "      <td>51.452902</td>\n",
              "      <td>0.001095</td>\n",
              "      <td>0.507</td>\n",
              "    </tr>\n",
              "    <tr>\n",
              "      <th>4</th>\n",
              "      <td>0</td>\n",
              "      <td>0</td>\n",
              "      <td>4</td>\n",
              "      <td>4695978684</td>\n",
              "      <td>4698502266</td>\n",
              "      <td>35.778521</td>\n",
              "      <td>51.451766</td>\n",
              "      <td>0.001095</td>\n",
              "      <td>0.507</td>\n",
              "    </tr>\n",
              "  </tbody>\n",
              "</table>\n",
              "</div>"
            ],
            "text/plain": [
              "   Unnamed: 0  trip_id  index      source  destination        lat        lon  \\\n",
              "0           0        0      0  4695978684   4698502266  35.778304  51.454955   \n",
              "1           0        0      1  4695978684   4698502266  35.778631  51.453973   \n",
              "2           0        0      2  4695978684   4698502266  35.778324  51.453093   \n",
              "3           0        0      3  4695978684   4698502266  35.778708  51.452902   \n",
              "4           0        0      4  4695978684   4698502266  35.778521  51.451766   \n",
              "\n",
              "   ride_speed  ride_gps_time  \n",
              "0    0.001095          0.507  \n",
              "1    0.001095          0.507  \n",
              "2    0.001095          0.507  \n",
              "3    0.001095          0.507  \n",
              "4    0.001095          0.507  "
            ]
          },
          "execution_count": 22,
          "metadata": {},
          "output_type": "execute_result"
        }
      ],
      "source": [
        "test_dataset_noisy.head()"
      ]
    },
    {
      "cell_type": "code",
      "execution_count": null,
      "metadata": {},
      "outputs": [],
      "source": [
        "losses = []\n",
        "\n",
        "# Find each trip (based on trip_id) and denoise it\n",
        "for i in tqdm(range(20)):\n",
        "    trip = test_dataset_noisy.loc[test_dataset_noisy[\"trip_id\"] == i]\n",
        "    denoised_trip = HMM(trip, pasdaran_streets)\n",
        "    gt_trip = test_dataset_original.loc[test_dataset_original[\"trip_id\"] == i]\n",
        "    losses.append(mean_haversine_distance(denoised_trip, gt_trip))\n",
        "\n",
        "print(\"Average loss:\", np.mean(losses))"
      ]
    },
    {
      "cell_type": "markdown",
      "metadata": {},
      "source": [
        "**How to submit**: You should submit your notebook and the `denoised_test_dataset.csv` file. Your codes are verified based on the \"Mean haversine distance\" value that your code gets and the `denoised_test_dataset.csv`."
      ]
    }
  ],
  "metadata": {
    "colab": {
      "provenance": []
    },
    "kernelspec": {
      "display_name": "Python 3",
      "name": "python3"
    },
    "language_info": {
      "codemirror_mode": {
        "name": "ipython",
        "version": 3
      },
      "file_extension": ".py",
      "mimetype": "text/x-python",
      "name": "python",
      "nbconvert_exporter": "python",
      "pygments_lexer": "ipython3",
      "version": "3.10.8"
    },
    "widgets": {
      "application/vnd.jupyter.widget-state+json": {
        "77b588a25f604d019680da94df72f8d6": {
          "model_module": "keplergl-jupyter",
          "model_module_version": "^0.3.2",
          "model_name": "KeplerGlModal",
          "state": {
            "_dom_classes": [],
            "_model_module": "keplergl-jupyter",
            "_model_module_version": "^0.3.2",
            "_model_name": "KeplerGlModal",
            "_view_count": null,
            "_view_module": "keplergl-jupyter",
            "_view_module_version": "^0.3.2",
            "_view_name": "KeplerGlView",
            "config": {
              "config": {
                "mapState": {
                  "bearing": 0,
                  "dragRotate": false,
                  "isSplit": false,
                  "latitude": 35.741495361297474,
                  "longitude": 51.41731369359277,
                  "pitch": 0,
                  "zoom": 12.133728990493546
                },
                "mapStyle": {
                  "mapStyles": {},
                  "styleType": "dark",
                  "threeDBuildingColor": [
                    9.665468314072013,
                    17.18305478057247,
                    31.1442867897876
                  ],
                  "topLayerGroups": {},
                  "visibleLayerGroups": {
                    "3d building": false,
                    "border": false,
                    "building": true,
                    "label": true,
                    "land": true,
                    "road": true,
                    "water": true
                  }
                },
                "visState": {
                  "animationConfig": {
                    "currentTime": null,
                    "speed": 1
                  },
                  "filters": [],
                  "interactionConfig": {
                    "brush": {
                      "enabled": false,
                      "size": 0.5
                    },
                    "coordinate": {
                      "enabled": false
                    },
                    "geocoder": {
                      "enabled": false
                    },
                    "tooltip": {
                      "compareMode": false,
                      "compareType": "absolute",
                      "enabled": true,
                      "fieldsToShow": {
                        "all_data": [
                          {
                            "format": null,
                            "name": "type"
                          }
                        ]
                      }
                    }
                  },
                  "layerBlending": "normal",
                  "layers": [
                    {
                      "config": {
                        "color": [
                          18,
                          147,
                          154
                        ],
                        "columns": {
                          "altitude": null,
                          "lat": "lat",
                          "lng": "lon"
                        },
                        "dataId": "all_data",
                        "hidden": false,
                        "highlightColor": [
                          252,
                          242,
                          26,
                          255
                        ],
                        "isVisible": true,
                        "label": "locations",
                        "textLabel": [
                          {
                            "alignment": "center",
                            "anchor": "start",
                            "color": [
                              255,
                              255,
                              255
                            ],
                            "field": null,
                            "offset": [
                              0,
                              0
                            ],
                            "size": 18
                          }
                        ],
                        "visConfig": {
                          "colorRange": {
                            "category": "ColorBrewer",
                            "colors": [
                              "#e41a1c",
                              "#377eb8",
                              "#4daf4a",
                              "#984ea3",
                              "#ff7f00",
                              "#ffff33"
                            ],
                            "name": "ColorBrewer Set1-6",
                            "type": "qualitative"
                          },
                          "filled": true,
                          "fixedRadius": false,
                          "opacity": 0.8,
                          "outline": false,
                          "radius": 10,
                          "radiusRange": [
                            0,
                            50
                          ],
                          "strokeColor": null,
                          "strokeColorRange": {
                            "category": "Uber",
                            "colors": [
                              "#5A1846",
                              "#900C3F",
                              "#C70039",
                              "#E3611C",
                              "#F1920E",
                              "#FFC300"
                            ],
                            "name": "Global Warming",
                            "type": "sequential"
                          },
                          "thickness": 2
                        }
                      },
                      "id": "ivbjosj",
                      "type": "point",
                      "visualChannels": {
                        "colorField": {
                          "name": "type",
                          "type": "string"
                        },
                        "colorScale": "ordinal",
                        "sizeField": null,
                        "sizeScale": "linear",
                        "strokeColorField": null,
                        "strokeColorScale": "quantile"
                      }
                    }
                  ],
                  "splitMaps": []
                }
              },
              "version": "v1"
            },
            "data": {
              "all_data": {
                "columns": [
                  "lat",
                  "lon",
                  "type"
                ],
                "data": [
                  [
                    35.76289749145508,
                    51.41752243041992,
                    "university"
                  ],
                  [
                    35.78015899658203,
                    51.31702423095703,
                    "university"
                  ],
                  [
                    35.75886917114258,
                    51.400691986083984,
                    "university"
                  ],
                  [
                    35.80634689331055,
                    51.43412780761719,
                    "university"
                  ],
                  [
                    35.70586395263672,
                    51.39415740966797,
                    "university"
                  ],
                  [
                    35.71175765991211,
                    51.41083908081055,
                    "university"
                  ],
                  [
                    35.703773498535156,
                    51.399173736572266,
                    "university"
                  ],
                  [
                    35.6207160949707,
                    51.391910552978516,
                    "university"
                  ],
                  [
                    35.70736312866211,
                    51.39768600463867,
                    "university"
                  ],
                  [
                    35.70258331298828,
                    51.41768264770508,
                    "university"
                  ],
                  [
                    35.70863342285156,
                    51.38536071777344,
                    "university"
                  ],
                  [
                    35.77996826171875,
                    51.380184173583984,
                    "university"
                  ],
                  [
                    35.72111511230469,
                    51.38161849975586,
                    "university"
                  ],
                  [
                    35.79006576538086,
                    51.312965393066406,
                    "university"
                  ],
                  [
                    35.72325134277344,
                    51.385257720947266,
                    "university"
                  ],
                  [
                    35.72307205200195,
                    51.38475036621094,
                    "university"
                  ],
                  [
                    35.800254821777344,
                    51.462608337402344,
                    "university"
                  ],
                  [
                    35.8005485534668,
                    51.46290588378906,
                    "university"
                  ],
                  [
                    35.80044937133789,
                    51.46282958984375,
                    "university"
                  ],
                  [
                    35.8001708984375,
                    51.4626350402832,
                    "university"
                  ],
                  [
                    35.80037307739258,
                    51.46287155151367,
                    "university"
                  ],
                  [
                    35.809818267822266,
                    51.46974182128906,
                    "university"
                  ],
                  [
                    35.80210876464844,
                    51.49042510986328,
                    "university"
                  ],
                  [
                    35.802467346191406,
                    51.49069595336914,
                    "university"
                  ],
                  [
                    35.802852630615234,
                    51.491119384765625,
                    "university"
                  ],
                  [
                    35.805320739746094,
                    51.49176025390625,
                    "university"
                  ],
                  [
                    35.69378662109375,
                    51.411800384521484,
                    "university"
                  ],
                  [
                    35.70403289794922,
                    51.35809326171875,
                    "high_school"
                  ],
                  [
                    35.75897979736328,
                    51.350746154785156,
                    "high_school"
                  ],
                  [
                    35.71183395385742,
                    51.49424743652344,
                    "high_school"
                  ],
                  [
                    35.66155242919922,
                    51.351497650146484,
                    "high_school"
                  ],
                  [
                    35.662174224853516,
                    51.35105895996094,
                    "high_school"
                  ],
                  [
                    35.66262435913086,
                    51.351051330566406,
                    "high_school"
                  ],
                  [
                    35.77766036987305,
                    51.33124923706055,
                    "high_school"
                  ],
                  [
                    35.71391677856445,
                    51.459285736083984,
                    "high_school"
                  ],
                  [
                    35.69200897216797,
                    51.39494705200195,
                    "high_school"
                  ],
                  [
                    35.71049880981445,
                    51.47433090209961,
                    "high_school"
                  ],
                  [
                    35.631343841552734,
                    51.409542083740234,
                    "high_school"
                  ],
                  [
                    35.629573822021484,
                    51.410064697265625,
                    "high_school"
                  ],
                  [
                    35.75343704223633,
                    51.527591705322266,
                    "high_school"
                  ],
                  [
                    35.690223693847656,
                    51.392024993896484,
                    "high_school"
                  ],
                  [
                    35.73594665527344,
                    51.29774475097656,
                    "high_school"
                  ],
                  [
                    35.724422454833984,
                    51.406089782714844,
                    "cafe"
                  ],
                  [
                    35.774654388427734,
                    51.37675857543945,
                    "cafe"
                  ],
                  [
                    35.767845153808594,
                    51.44182586669922,
                    "cafe"
                  ],
                  [
                    35.75910568237305,
                    51.453399658203125,
                    "cafe"
                  ],
                  [
                    35.790802001953125,
                    51.41978073120117,
                    "cafe"
                  ],
                  [
                    35.697750091552734,
                    51.407203674316406,
                    "cafe"
                  ],
                  [
                    35.75694274902344,
                    51.34369659423828,
                    "cafe"
                  ],
                  [
                    35.79023361206055,
                    51.49240493774414,
                    "cafe"
                  ],
                  [
                    35.76307678222656,
                    51.33781814575195,
                    "cafe"
                  ],
                  [
                    35.77212905883789,
                    51.38304138183594,
                    "cafe"
                  ],
                  [
                    35.70368576049805,
                    51.4019775390625,
                    "cafe"
                  ],
                  [
                    35.722991943359375,
                    51.40835189819336,
                    "cafe"
                  ],
                  [
                    35.727569580078125,
                    51.407840728759766,
                    "cafe"
                  ],
                  [
                    35.63152313232422,
                    51.41822052001953,
                    "cafe"
                  ],
                  [
                    35.709388732910156,
                    51.42061996459961,
                    "cafe"
                  ],
                  [
                    35.725318908691406,
                    51.41109848022461,
                    "cafe"
                  ],
                  [
                    35.70684051513672,
                    51.414459228515625,
                    "cafe"
                  ],
                  [
                    35.6965446472168,
                    51.42274856567383,
                    "cafe"
                  ],
                  [
                    35.725250244140625,
                    51.33550262451172,
                    "cafe"
                  ],
                  [
                    35.753082275390625,
                    51.333251953125,
                    "cafe"
                  ],
                  [
                    35.69471740722656,
                    51.41681671142578,
                    "cafe"
                  ],
                  [
                    35.71518325805664,
                    51.419681549072266,
                    "cafe"
                  ],
                  [
                    35.76353073120117,
                    51.4109992980957,
                    "cafe"
                  ],
                  [
                    35.71308898925781,
                    51.41477584838867,
                    "cafe"
                  ],
                  [
                    35.76559066772461,
                    51.45576858520508,
                    "cafe"
                  ],
                  [
                    35.76375961303711,
                    51.3369140625,
                    "cafe"
                  ],
                  [
                    35.75556182861328,
                    51.45295715332031,
                    "cafe"
                  ],
                  [
                    35.72909927368164,
                    51.41273880004883,
                    "cafe"
                  ],
                  [
                    35.73232650756836,
                    51.48518371582031,
                    "cafe"
                  ],
                  [
                    35.723331451416016,
                    51.42930221557617,
                    "cafe"
                  ],
                  [
                    35.76866149902344,
                    51.458248138427734,
                    "cafe"
                  ],
                  [
                    35.76603317260742,
                    51.354736328125,
                    "cafe"
                  ],
                  [
                    35.71354675292969,
                    51.39773178100586,
                    "cafe"
                  ],
                  [
                    35.707435607910156,
                    51.39046096801758,
                    "cafe"
                  ],
                  [
                    35.7591438293457,
                    51.404632568359375,
                    "cafe"
                  ],
                  [
                    35.7248649597168,
                    51.404911041259766,
                    "cafe"
                  ],
                  [
                    35.729496002197266,
                    51.3992805480957,
                    "cafe"
                  ],
                  [
                    35.726768493652344,
                    51.40500259399414,
                    "cafe"
                  ],
                  [
                    35.71022033691406,
                    51.44589614868164,
                    "cafe"
                  ],
                  [
                    35.76286697387695,
                    51.444618225097656,
                    "cafe"
                  ],
                  [
                    35.75719451904297,
                    51.41733169555664,
                    "cafe"
                  ],
                  [
                    35.77216720581055,
                    51.43892288208008,
                    "cafe"
                  ],
                  [
                    35.70035934448242,
                    51.38949966430664,
                    "cafe"
                  ],
                  [
                    35.762081146240234,
                    51.381324768066406,
                    "cafe"
                  ],
                  [
                    35.785369873046875,
                    51.4234504699707,
                    "cafe"
                  ],
                  [
                    35.776527404785156,
                    51.36223220825195,
                    "cafe"
                  ],
                  [
                    35.77958679199219,
                    51.367088317871094,
                    "cafe"
                  ],
                  [
                    35.700286865234375,
                    51.40456771850586,
                    "cafe"
                  ],
                  [
                    35.771156311035156,
                    51.37647247314453,
                    "cafe"
                  ],
                  [
                    35.777076721191406,
                    51.413604736328125,
                    "cafe"
                  ],
                  [
                    35.786170959472656,
                    51.371952056884766,
                    "cafe"
                  ],
                  [
                    35.70206069946289,
                    51.398681640625,
                    "cafe"
                  ],
                  [
                    35.71193313598633,
                    51.42136001586914,
                    "cafe"
                  ],
                  [
                    35.70170974731445,
                    51.40547180175781,
                    "cafe"
                  ],
                  [
                    35.68861770629883,
                    51.41917419433594,
                    "cafe"
                  ],
                  [
                    35.70580291748047,
                    51.425819396972656,
                    "cafe"
                  ],
                  [
                    35.70561218261719,
                    51.423526763916016,
                    "cafe"
                  ],
                  [
                    35.70561599731445,
                    51.42327117919922,
                    "cafe"
                  ],
                  [
                    35.70555114746094,
                    51.42277908325195,
                    "cafe"
                  ],
                  [
                    35.71506881713867,
                    51.421897888183594,
                    "cafe"
                  ],
                  [
                    35.73873519897461,
                    51.313541412353516,
                    "cafe"
                  ],
                  [
                    35.7122688293457,
                    51.416194915771484,
                    "cafe"
                  ],
                  [
                    35.745811462402344,
                    51.40472412109375,
                    "cafe"
                  ],
                  [
                    35.708072662353516,
                    51.39726638793945,
                    "cafe"
                  ],
                  [
                    35.79587936401367,
                    51.443939208984375,
                    "cafe"
                  ],
                  [
                    35.76286315917969,
                    51.45756912231445,
                    "cafe"
                  ],
                  [
                    35.71192169189453,
                    51.421627044677734,
                    "cafe"
                  ],
                  [
                    35.794410705566406,
                    51.4733772277832,
                    "cafe"
                  ],
                  [
                    35.71864700317383,
                    51.428504943847656,
                    "cafe"
                  ],
                  [
                    35.72669982910156,
                    51.30411911010742,
                    "cafe"
                  ],
                  [
                    35.676116943359375,
                    51.42127227783203,
                    "cafe"
                  ],
                  [
                    35.754127502441406,
                    51.41910934448242,
                    "cafe"
                  ],
                  [
                    35.71757125854492,
                    51.426536560058594,
                    "cafe"
                  ],
                  [
                    35.72337341308594,
                    51.429283142089844,
                    "cafe"
                  ],
                  [
                    35.705440521240234,
                    51.406158447265625,
                    "cafe"
                  ],
                  [
                    35.69971466064453,
                    51.402793884277344,
                    "cafe"
                  ],
                  [
                    35.72304153442383,
                    51.322532653808594,
                    "cafe"
                  ],
                  [
                    35.78276062011719,
                    51.436344146728516,
                    "cafe"
                  ],
                  [
                    35.774322509765625,
                    51.42145538330078,
                    "cafe"
                  ],
                  [
                    35.776405334472656,
                    51.41335678100586,
                    "cafe"
                  ],
                  [
                    35.73759460449219,
                    51.41489028930664,
                    "cafe"
                  ],
                  [
                    35.79175567626953,
                    51.43525695800781,
                    "cafe"
                  ],
                  [
                    35.72116470336914,
                    51.33324432373047,
                    "cafe"
                  ],
                  [
                    35.80258560180664,
                    51.457584381103516,
                    "cafe"
                  ],
                  [
                    35.764713287353516,
                    51.45895004272461,
                    "cafe"
                  ],
                  [
                    35.738582611083984,
                    51.313663482666016,
                    "cafe"
                  ],
                  [
                    35.80086898803711,
                    51.48409652709961,
                    "cafe"
                  ],
                  [
                    35.78458023071289,
                    51.37349319458008,
                    "cafe"
                  ],
                  [
                    35.79568099975586,
                    51.39535903930664,
                    "cafe"
                  ],
                  [
                    35.749855041503906,
                    51.39814758300781,
                    "cafe"
                  ],
                  [
                    35.74991226196289,
                    51.398136138916016,
                    "cafe"
                  ],
                  [
                    35.70216369628906,
                    51.40282440185547,
                    "cafe"
                  ],
                  [
                    35.70133972167969,
                    51.43513870239258,
                    "cafe"
                  ],
                  [
                    35.697845458984375,
                    51.378562927246094,
                    "cafe"
                  ],
                  [
                    35.7081413269043,
                    51.41559982299805,
                    "cafe"
                  ],
                  [
                    35.724266052246094,
                    51.43381881713867,
                    "cafe"
                  ],
                  [
                    35.70137405395508,
                    51.41690444946289,
                    "cafe"
                  ],
                  [
                    35.77505111694336,
                    51.436336517333984,
                    "cafe"
                  ],
                  [
                    35.7017936706543,
                    51.39128112792969,
                    "cafe"
                  ],
                  [
                    35.744571685791016,
                    51.398643493652344,
                    "cafe"
                  ],
                  [
                    35.715763092041016,
                    51.41240692138672,
                    "cafe"
                  ],
                  [
                    35.69470977783203,
                    51.41780090332031,
                    "cafe"
                  ],
                  [
                    35.6952018737793,
                    51.43265914916992,
                    "cafe"
                  ],
                  [
                    35.68989944458008,
                    51.42830276489258,
                    "cafe"
                  ],
                  [
                    35.699588775634766,
                    51.4194450378418,
                    "cafe"
                  ],
                  [
                    35.768795013427734,
                    51.462345123291016,
                    "cafe"
                  ],
                  [
                    35.76981735229492,
                    51.45973205566406,
                    "cafe"
                  ],
                  [
                    35.80223083496094,
                    51.45801544189453,
                    "cafe"
                  ],
                  [
                    35.760799407958984,
                    51.40492630004883,
                    "cafe"
                  ],
                  [
                    35.78624725341797,
                    51.42687225341797,
                    "cafe"
                  ],
                  [
                    35.78534698486328,
                    51.42979049682617,
                    "cafe"
                  ],
                  [
                    35.711185455322266,
                    51.41284942626953,
                    "cafe"
                  ],
                  [
                    35.75334548950195,
                    51.4124641418457,
                    "cafe"
                  ],
                  [
                    35.69802474975586,
                    51.40579605102539,
                    "cafe"
                  ],
                  [
                    35.72294998168945,
                    51.44863510131836,
                    "cafe"
                  ],
                  [
                    35.69292068481445,
                    51.41434860229492,
                    "cafe"
                  ],
                  [
                    35.78012466430664,
                    51.36083221435547,
                    "cafe"
                  ],
                  [
                    35.78132629394531,
                    51.335052490234375,
                    "cafe"
                  ],
                  [
                    35.70237731933594,
                    51.402347564697266,
                    "cafe"
                  ],
                  [
                    35.723018646240234,
                    51.43146896362305,
                    "cafe"
                  ],
                  [
                    35.701480865478516,
                    51.41166687011719,
                    "cafe"
                  ],
                  [
                    35.70283508300781,
                    51.42124938964844,
                    "cafe"
                  ],
                  [
                    35.68946838378906,
                    51.40704345703125,
                    "cafe"
                  ],
                  [
                    35.721275329589844,
                    51.433589935302734,
                    "cafe"
                  ],
                  [
                    35.77017593383789,
                    51.49202346801758,
                    "cafe"
                  ],
                  [
                    35.79787826538086,
                    51.44856262207031,
                    "cafe"
                  ],
                  [
                    35.7652587890625,
                    51.35844039916992,
                    "cafe"
                  ],
                  [
                    35.76520919799805,
                    51.358177185058594,
                    "cafe"
                  ],
                  [
                    35.76002502441406,
                    51.33375930786133,
                    "cafe"
                  ],
                  [
                    35.75056076049805,
                    51.39841842651367,
                    "cafe"
                  ],
                  [
                    35.80780029296875,
                    51.42704772949219,
                    "cafe"
                  ],
                  [
                    35.764312744140625,
                    51.350582122802734,
                    "cafe"
                  ],
                  [
                    35.7015495300293,
                    51.40038299560547,
                    "cafe"
                  ],
                  [
                    35.70505142211914,
                    51.41578674316406,
                    "cafe"
                  ],
                  [
                    35.72111511230469,
                    51.320438385009766,
                    "cafe"
                  ],
                  [
                    35.70899200439453,
                    51.41307830810547,
                    "cafe"
                  ],
                  [
                    35.757083892822266,
                    51.45296096801758,
                    "cafe"
                  ],
                  [
                    35.761966705322266,
                    51.459712982177734,
                    "cafe"
                  ],
                  [
                    35.703556060791016,
                    51.41585159301758,
                    "cafe"
                  ],
                  [
                    35.707763671875,
                    51.434471130371094,
                    "cafe"
                  ],
                  [
                    35.76963806152344,
                    51.44078826904297,
                    "cafe"
                  ],
                  [
                    35.80937957763672,
                    51.454627990722656,
                    "cafe"
                  ],
                  [
                    35.71023941040039,
                    51.414215087890625,
                    "cafe"
                  ],
                  [
                    35.71392822265625,
                    51.41915512084961,
                    "cafe"
                  ],
                  [
                    35.726234436035156,
                    51.526702880859375,
                    "cafe"
                  ],
                  [
                    35.71406555175781,
                    51.418296813964844,
                    "cafe"
                  ],
                  [
                    35.77045822143555,
                    51.46163558959961,
                    "cafe"
                  ],
                  [
                    35.70259094238281,
                    51.40258026123047,
                    "cafe"
                  ],
                  [
                    35.698856353759766,
                    51.406341552734375,
                    "cafe"
                  ],
                  [
                    35.77899169921875,
                    51.376319885253906,
                    "cafe"
                  ],
                  [
                    35.729434967041016,
                    51.49258804321289,
                    "cafe"
                  ],
                  [
                    35.76433181762695,
                    51.4845085144043,
                    "cafe"
                  ],
                  [
                    35.77115249633789,
                    51.35517120361328,
                    "cafe"
                  ],
                  [
                    35.76969528198242,
                    51.4264030456543,
                    "cafe"
                  ],
                  [
                    35.7047119140625,
                    51.390804290771484,
                    "cafe"
                  ],
                  [
                    35.7903938293457,
                    51.461238861083984,
                    "cafe"
                  ],
                  [
                    35.755149841308594,
                    51.45304870605469,
                    "cafe"
                  ],
                  [
                    35.74198532104492,
                    51.44419860839844,
                    "cafe"
                  ],
                  [
                    35.7099609375,
                    51.41895294189453,
                    "cafe"
                  ],
                  [
                    35.78750228881836,
                    51.423526763916016,
                    "cafe"
                  ],
                  [
                    35.70117950439453,
                    51.41415786743164,
                    "cafe"
                  ],
                  [
                    35.70115280151367,
                    51.41484451293945,
                    "cafe"
                  ],
                  [
                    35.77179718017578,
                    51.42901611328125,
                    "cafe"
                  ],
                  [
                    35.71628952026367,
                    51.417999267578125,
                    "cafe"
                  ],
                  [
                    35.69702911376953,
                    51.40525817871094,
                    "cafe"
                  ],
                  [
                    35.70446014404297,
                    51.40089416503906,
                    "cafe"
                  ],
                  [
                    35.63487243652344,
                    51.381256103515625,
                    "cafe"
                  ],
                  [
                    35.697288513183594,
                    51.40028381347656,
                    "cafe"
                  ],
                  [
                    35.79673385620117,
                    51.44426345825195,
                    "cafe"
                  ],
                  [
                    35.72031021118164,
                    51.405006408691406,
                    "cafe"
                  ],
                  [
                    35.76267623901367,
                    51.4416389465332,
                    "cafe"
                  ],
                  [
                    35.70962905883789,
                    51.38954162597656,
                    "cafe"
                  ],
                  [
                    35.721492767333984,
                    51.43083953857422,
                    "cafe"
                  ],
                  [
                    35.745323181152344,
                    51.5163688659668,
                    "cafe"
                  ],
                  [
                    35.768775939941406,
                    51.466094970703125,
                    "cafe"
                  ],
                  [
                    35.76815414428711,
                    51.4650993347168,
                    "cafe"
                  ],
                  [
                    35.790218353271484,
                    51.46113204956055,
                    "cafe"
                  ],
                  [
                    35.76251220703125,
                    51.41444778442383,
                    "cafe"
                  ],
                  [
                    35.77495574951172,
                    51.436492919921875,
                    "cafe"
                  ],
                  [
                    35.79266357421875,
                    51.452789306640625,
                    "cafe"
                  ],
                  [
                    35.73377990722656,
                    51.34520721435547,
                    "cafe"
                  ],
                  [
                    35.72542190551758,
                    51.4110221862793,
                    "cafe"
                  ],
                  [
                    35.7710075378418,
                    51.420745849609375,
                    "cafe"
                  ],
                  [
                    35.702369689941406,
                    51.40862274169922,
                    "cafe"
                  ],
                  [
                    35.80111312866211,
                    51.415992736816406,
                    "cafe"
                  ],
                  [
                    35.71823501586914,
                    51.420616149902344,
                    "cafe"
                  ],
                  [
                    35.702415466308594,
                    51.39781951904297,
                    "cafe"
                  ],
                  [
                    35.64780044555664,
                    51.39326477050781,
                    "cafe"
                  ],
                  [
                    35.79930114746094,
                    51.46697998046875,
                    "cafe"
                  ],
                  [
                    35.76483917236328,
                    51.440834045410156,
                    "cafe"
                  ],
                  [
                    35.736289978027344,
                    51.33262634277344,
                    "cafe"
                  ],
                  [
                    35.79326629638672,
                    51.42427444458008,
                    "cafe"
                  ],
                  [
                    35.6976203918457,
                    51.394691467285156,
                    "cafe"
                  ],
                  [
                    35.79032516479492,
                    51.42139434814453,
                    "cafe"
                  ],
                  [
                    35.72048568725586,
                    51.41410827636719,
                    "cafe"
                  ],
                  [
                    35.7376708984375,
                    51.43244934082031,
                    "cafe"
                  ],
                  [
                    35.63514709472656,
                    51.40928649902344,
                    "cafe"
                  ],
                  [
                    35.78006362915039,
                    51.44975280761719,
                    "cafe"
                  ],
                  [
                    35.700767517089844,
                    51.39577102661133,
                    "cafe"
                  ]
                ],
                "index": [
                  782,
                  928,
                  1191,
                  3344,
                  3867,
                  4643,
                  5146,
                  5866,
                  7953,
                  9300,
                  9645,
                  9696,
                  14937,
                  17874,
                  18031,
                  18032,
                  18141,
                  18142,
                  18143,
                  18144,
                  18145,
                  18146,
                  18147,
                  18148,
                  18149,
                  18150,
                  19239,
                  99,
                  2080,
                  2285,
                  3217,
                  3218,
                  3219,
                  3367,
                  6083,
                  6269,
                  6775,
                  7019,
                  7020,
                  8802,
                  11068,
                  17658,
                  191,
                  604,
                  684,
                  698,
                  945,
                  1447,
                  1678,
                  1817,
                  1904,
                  1948,
                  1975,
                  2084,
                  2086,
                  2087,
                  2114,
                  2160,
                  2184,
                  2239,
                  2276,
                  2388,
                  2407,
                  2416,
                  2419,
                  2420,
                  2433,
                  2577,
                  2614,
                  2802,
                  2886,
                  3098,
                  3181,
                  3228,
                  3270,
                  3271,
                  3337,
                  3407,
                  3408,
                  3409,
                  3516,
                  3563,
                  3570,
                  3967,
                  4079,
                  4087,
                  4204,
                  4230,
                  4241,
                  4243,
                  4266,
                  4330,
                  4386,
                  4526,
                  4559,
                  4644,
                  4646,
                  4699,
                  4700,
                  4702,
                  4703,
                  4774,
                  4913,
                  4956,
                  4957,
                  4958,
                  5076,
                  5157,
                  5299,
                  5349,
                  5518,
                  5625,
                  5641,
                  5737,
                  5922,
                  6087,
                  6118,
                  6126,
                  6133,
                  6174,
                  6223,
                  6226,
                  6238,
                  6240,
                  6262,
                  6334,
                  6398,
                  6401,
                  6483,
                  6536,
                  6540,
                  6563,
                  6575,
                  6721,
                  6728,
                  6739,
                  6801,
                  6816,
                  6818,
                  6884,
                  6889,
                  7242,
                  7526,
                  7730,
                  7758,
                  7807,
                  7860,
                  7926,
                  7944,
                  8135,
                  8195,
                  8225,
                  8226,
                  8365,
                  8374,
                  8416,
                  8450,
                  8509,
                  8587,
                  8724,
                  8749,
                  8774,
                  8775,
                  8797,
                  8859,
                  8953,
                  8962,
                  8969,
                  9083,
                  9084,
                  9098,
                  9385,
                  9617,
                  9761,
                  9966,
                  9992,
                  10126,
                  10275,
                  10431,
                  10432,
                  10464,
                  10624,
                  10754,
                  10770,
                  10950,
                  11014,
                  11088,
                  11174,
                  11307,
                  11616,
                  11685,
                  11704,
                  11894,
                  12040,
                  12092,
                  12229,
                  12230,
                  12308,
                  12384,
                  12394,
                  12397,
                  12672,
                  12956,
                  12960,
                  13004,
                  13134,
                  13160,
                  13199,
                  13212,
                  13324,
                  13978,
                  14044,
                  14082,
                  14171,
                  14437,
                  14532,
                  14755,
                  14756,
                  15075,
                  15184,
                  15326,
                  15549,
                  15868,
                  16009,
                  16187,
                  16316,
                  16354,
                  17152,
                  17227,
                  17677,
                  17794,
                  18034,
                  18216,
                  18254,
                  18263,
                  18488,
                  18642,
                  18663,
                  18932,
                  19069,
                  19083
                ]
              }
            },
            "height": 800,
            "layout": "IPY_MODEL_7f0e0643151c4b4c8166724f7b2e8ab5",
            "value": "Hello World!"
          }
        },
        "7f0e0643151c4b4c8166724f7b2e8ab5": {
          "model_module": "@jupyter-widgets/base",
          "model_module_version": "1.2.0",
          "model_name": "LayoutModel",
          "state": {
            "_model_module": "@jupyter-widgets/base",
            "_model_module_version": "1.2.0",
            "_model_name": "LayoutModel",
            "_view_count": null,
            "_view_module": "@jupyter-widgets/base",
            "_view_module_version": "1.2.0",
            "_view_name": "LayoutView",
            "align_content": null,
            "align_items": null,
            "align_self": null,
            "border": null,
            "bottom": null,
            "display": null,
            "flex": null,
            "flex_flow": null,
            "grid_area": null,
            "grid_auto_columns": null,
            "grid_auto_flow": null,
            "grid_auto_rows": null,
            "grid_column": null,
            "grid_gap": null,
            "grid_row": null,
            "grid_template_areas": null,
            "grid_template_columns": null,
            "grid_template_rows": null,
            "height": null,
            "justify_content": null,
            "justify_items": null,
            "left": null,
            "margin": null,
            "max_height": null,
            "max_width": null,
            "min_height": null,
            "min_width": null,
            "object_fit": null,
            "object_position": null,
            "order": null,
            "overflow": null,
            "overflow_x": null,
            "overflow_y": null,
            "padding": null,
            "right": null,
            "top": null,
            "visibility": null,
            "width": null
          }
        }
      }
    }
  },
  "nbformat": 4,
  "nbformat_minor": 0
}
